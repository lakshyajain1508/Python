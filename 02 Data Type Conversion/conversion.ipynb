{
 "cells": [
  {
   "cell_type": "code",
   "execution_count": null,
   "id": "0710405c",
   "metadata": {},
   "outputs": [
    {
     "name": "stdout",
     "output_type": "stream",
     "text": [
      "10\n",
      "<class 'int'>\n",
      "<class 'str'>\n"
     ]
    }
   ],
   "source": [
    "# string to int\n",
    "num_str = \"10\"\n",
    "num_int = int(num_str)\n",
    "print(num_int)  # Output: 10\n",
    "print(type(num_int))\n",
    "print(type(num_str))"
   ]
  },
  {
   "cell_type": "code",
   "execution_count": 8,
   "id": "648dc641",
   "metadata": {},
   "outputs": [
    {
     "name": "stdout",
     "output_type": "stream",
     "text": [
      "3.14\n",
      "3\n",
      "<class 'float'>\n",
      "<class 'int'>\n"
     ]
    }
   ],
   "source": [
    "# string to float than int\n",
    "\n",
    "num_str = \"3.14\"\n",
    "num_float = float(num_str)\n",
    "print(num_float) # 10\n",
    "num_int = int(num_float)\n",
    "print(num_int)\n",
    "print(type(num_float))\n",
    "print(type(num_int))"
   ]
  },
  {
   "cell_type": "code",
   "execution_count": 14,
   "id": "8de7dfe6",
   "metadata": {},
   "outputs": [
    {
     "name": "stdout",
     "output_type": "stream",
     "text": [
      "15\n",
      "<class 'str'>\n"
     ]
    }
   ],
   "source": [
    "# int to string\n",
    "\n",
    "num_int = 15\n",
    "num_str0 = str(num_int)\n",
    "print(num_str0)\n",
    "print(type(num_str0))"
   ]
  },
  {
   "cell_type": "code",
   "execution_count": 23,
   "id": "89c87363",
   "metadata": {},
   "outputs": [
    {
     "name": "stdout",
     "output_type": "stream",
     "text": [
      "<class 'str'>\n",
      "['1', '5', '0', '8', '0', '6']\n",
      "<class 'list'>\n",
      "('1', '5', '0', '8', '0', '6')\n",
      "<class 'tuple'>\n",
      "{'6', '0', '1', '8', '5'}\n",
      "<class 'set'>\n"
     ]
    }
   ],
   "source": [
    "# list(), tuple(), set(): Convert a value into a list, tuple, or set\n",
    "\n",
    "data = \"150806\"\n",
    "print(type(data))\n",
    "\n",
    "data_list = list(data) # string to list\n",
    "print(data_list)\n",
    "print(type(data_list))\n",
    "\n",
    "data_tuple = tuple(data) # string to tuple\n",
    "print(data_tuple)\n",
    "print(type(data_tuple))\n",
    "\n",
    "data_set = set(data) # string to set\n",
    "print(data_set)\n",
    "print(type(data_set))\n"
   ]
  },
  {
   "cell_type": "code",
   "execution_count": 25,
   "id": "2d7df272",
   "metadata": {},
   "outputs": [
    {
     "name": "stdout",
     "output_type": "stream",
     "text": [
      "True\n"
     ]
    }
   ],
   "source": [
    "# int to boolean\n",
    "\n",
    "num_1 = 15\n",
    "bool_v = bool(num_1)\n",
    "print(bool_v)"
   ]
  },
  {
   "cell_type": "code",
   "execution_count": 27,
   "id": "51e1d1ec",
   "metadata": {},
   "outputs": [
    {
     "name": "stdout",
     "output_type": "stream",
     "text": [
      "Integer to float: 10.0 (type: <class 'float'>)\n",
      "Float to integer: 3 (type: <class 'int'>)\n",
      "Integer to string: 42 (type: <class 'str'>)\n",
      "String to integer: 123 (type: <class 'int'>)\n",
      "String to float: 3.14 (type: <class 'float'>)\n",
      "List to tuple: (1, 2, 3) (type: <class 'tuple'>)\n",
      "Tuple to list: [1, 2, 3] (type: <class 'list'>)\n",
      "List to set: {1, 2, 3} (type: <class 'set'>)\n",
      "Set to list: [1, 2, 3] (type: <class 'list'>)\n",
      "Integer to boolean: False (type: <class 'bool'>)\n",
      "String to boolean: False (type: <class 'bool'>)\n"
     ]
    }
   ],
   "source": [
    "# Example of type conversion for each datatype\n",
    "\n",
    "# Integer to float\n",
    "num_int = 10\n",
    "num_float = float(num_int)\n",
    "print(f\"Integer to float: {num_float} (type: {type(num_float)})\")\n",
    "\n",
    "# Float to integer\n",
    "num_float = 3.14\n",
    "num_int = int(num_float)\n",
    "print(f\"Float to integer: {num_int} (type: {type(num_int)})\")\n",
    "\n",
    "# Integer to string\n",
    "num_int = 42\n",
    "num_str = str(num_int)\n",
    "print(f\"Integer to string: {num_str} (type: {type(num_str)})\")\n",
    "\n",
    "# String to integer\n",
    "num_str = \"123\"\n",
    "num_int = int(num_str)\n",
    "print(f\"String to integer: {num_int} (type: {type(num_int)})\")\n",
    "\n",
    "# String to float\n",
    "num_str = \"3.14\"\n",
    "num_float = float(num_str)\n",
    "print(f\"String to float: {num_float} (type: {type(num_float)})\")\n",
    "\n",
    "# List to tuple\n",
    "data_list = [1, 2, 3]\n",
    "data_tuple = tuple(data_list)\n",
    "print(f\"List to tuple: {data_tuple} (type: {type(data_tuple)})\")\n",
    "\n",
    "# Tuple to list\n",
    "data_tuple = (1, 2, 3)\n",
    "data_list = list(data_tuple)\n",
    "print(f\"Tuple to list: {data_list} (type: {type(data_list)})\")\n",
    "\n",
    "# List to set\n",
    "data_list = [1, 2, 2, 3]\n",
    "data_set = set(data_list)\n",
    "print(f\"List to set: {data_set} (type: {type(data_set)})\")\n",
    "\n",
    "# Set to list\n",
    "data_set = {1, 2, 3}\n",
    "data_list = list(data_set)\n",
    "print(f\"Set to list: {data_list} (type: {type(data_list)})\")\n",
    "\n",
    "# Integer to boolean\n",
    "num_int = 0\n",
    "bool_val = bool(num_int)\n",
    "print(f\"Integer to boolean: {bool_val} (type: {type(bool_val)})\")\n",
    "\n",
    "# String to boolean\n",
    "str_val = \"\"\n",
    "bool_val = bool(str_val)\n",
    "print(f\"String to boolean: {bool_val} (type: {type(bool_val)})\")"
   ]
  }
 ],
 "metadata": {
  "kernelspec": {
   "display_name": "Python 3",
   "language": "python",
   "name": "python3"
  },
  "language_info": {
   "codemirror_mode": {
    "name": "ipython",
    "version": 3
   },
   "file_extension": ".py",
   "mimetype": "text/x-python",
   "name": "python",
   "nbconvert_exporter": "python",
   "pygments_lexer": "ipython3",
   "version": "3.13.4"
  }
 },
 "nbformat": 4,
 "nbformat_minor": 5
}
