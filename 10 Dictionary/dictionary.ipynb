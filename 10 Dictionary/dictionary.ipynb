{
 "cells": [
  {
   "cell_type": "code",
   "execution_count": 49,
   "id": "d2328e24",
   "metadata": {},
   "outputs": [
    {
     "name": "stdout",
     "output_type": "stream",
     "text": [
      "{'name': 'Laksh', 'age': 18, 'city': 'Mumbai'}\n"
     ]
    }
   ],
   "source": [
    "# Dictionary in python\n",
    "# A dictionary is a collection which is unordered, changeable and indexed. In Python dictionaries are written with curly brackets, and they have keys and values.\n",
    "# Dictionaries are used to store data values in key:value pairs.\n",
    "\n",
    "# example\n",
    "# Create and print a dictionary:\n",
    "person = {'name': 'Laksh', 'age': 18, 'city': 'Mumbai'}\n",
    "print(person)"
   ]
  },
  {
   "cell_type": "code",
   "execution_count": 50,
   "id": "dbbffd58",
   "metadata": {},
   "outputs": [
    {
     "name": "stdout",
     "output_type": "stream",
     "text": [
      "Laksh\n"
     ]
    }
   ],
   "source": [
    "# Accessing Items\n",
    "# You can access the items of a dictionary by referring to its key name, inside square brackets:\n",
    "x = person['name']\n",
    "print(x)"
   ]
  },
  {
   "cell_type": "code",
   "execution_count": 51,
   "id": "dc9dee6d",
   "metadata": {},
   "outputs": [
    {
     "name": "stdout",
     "output_type": "stream",
     "text": [
      "19\n",
      "{'name': 'Laksh', 'age': 19, 'city': 'Mumbai'}\n"
     ]
    }
   ],
   "source": [
    "# Change Values\n",
    "# You can change the value of a specific item by referring to its key name:\n",
    "person['age'] = 19\n",
    "print(person['age'])\n",
    "print(person)"
   ]
  },
  {
   "cell_type": "code",
   "execution_count": 52,
   "id": "ff1d37a4",
   "metadata": {},
   "outputs": [
    {
     "name": "stdout",
     "output_type": "stream",
     "text": [
      "{'name': 'Laksh', 'age': 19, 'city': 'Mumbai', 'height': 5.11}\n"
     ]
    }
   ],
   "source": [
    "# add items \n",
    "# Adding an item to the dictionary is done by using a new index key and assigning a value to it:\n",
    "\n",
    "person['height'] = 5.11\n",
    "print(person)"
   ]
  },
  {
   "cell_type": "code",
   "execution_count": 53,
   "id": "ab57e82e",
   "metadata": {},
   "outputs": [
    {
     "name": "stdout",
     "output_type": "stream",
     "text": [
      "{'name': 'Laksh', 'age': 19, 'height': 5.11}\n"
     ]
    }
   ],
   "source": [
    "# using del keyword # example del dict['key']\n",
    "del person['city']\n",
    "print(person)"
   ]
  },
  {
   "cell_type": "code",
   "execution_count": 54,
   "id": "836e291a",
   "metadata": {},
   "outputs": [
    {
     "name": "stdout",
     "output_type": "stream",
     "text": [
      "{}\n"
     ]
    }
   ],
   "source": [
    "#  using clear() method # example clear()\n",
    "person.clear()\n",
    "print(person)"
   ]
  },
  {
   "cell_type": "code",
   "execution_count": 55,
   "id": "e801c4c2",
   "metadata": {},
   "outputs": [
    {
     "name": "stdout",
     "output_type": "stream",
     "text": [
      "product : Samsumg\n",
      "price : 25000\n",
      "quantity : 10\n"
     ]
    }
   ],
   "source": [
    "# Loop Through a Dictionary\n",
    "# You can loop through a dictionary by using a for loop.\n",
    "# When looping through a dictionary, the return value are the keys of the dictionary, but there are methods to return the values as well.\n",
    "\n",
    "# Example \n",
    "\n",
    "Data = {'product': 'Samsumg', 'price': 25000, 'quantity': 10}\n",
    "\n",
    "for x in Data:\n",
    "    print(x,':',Data[x])"
   ]
  },
  {
   "cell_type": "code",
   "execution_count": 85,
   "id": "78ca741a",
   "metadata": {},
   "outputs": [
    {
     "name": "stdout",
     "output_type": "stream",
     "text": [
      "dict_items([('product', 'Samsumg'), ('price', 25000), ('quantity', 10)])\n"
     ]
    }
   ],
   "source": [
    "# item() using in dictionary\n",
    "Data = {'product': 'Samsumg', 'price': 25000, 'quantity': 10}\n",
    "print(Data.items())"
   ]
  },
  {
   "cell_type": "code",
   "execution_count": 62,
   "id": "a5dcb1c1",
   "metadata": {},
   "outputs": [
    {
     "name": "stdout",
     "output_type": "stream",
     "text": [
      "dict_keys(['product', 'price', 'quantity'])\n"
     ]
    }
   ],
   "source": [
    "# keys() using in dictionary\n",
    "\n",
    "print(Data.keys())"
   ]
  },
  {
   "cell_type": "code",
   "execution_count": 63,
   "id": "bc647aa7",
   "metadata": {},
   "outputs": [
    {
     "name": "stdout",
     "output_type": "stream",
     "text": [
      "dict_values(['Samsumg', 25000, 10])\n"
     ]
    }
   ],
   "source": [
    "# values() using in dictionary\n",
    "\n",
    "print(Data.values())"
   ]
  },
  {
   "cell_type": "code",
   "execution_count": 84,
   "id": "8287ff9b",
   "metadata": {},
   "outputs": [
    {
     "name": "stdout",
     "output_type": "stream",
     "text": [
      "{'product': 'Samsumg', 'price': 25000}\n"
     ]
    }
   ],
   "source": [
    "# copy() using in dictionary\n",
    "\n",
    "new_data = Data.copy()\n",
    "print(new_data)"
   ]
  },
  {
   "cell_type": "code",
   "execution_count": 79,
   "id": "70150b9f",
   "metadata": {},
   "outputs": [
    {
     "name": "stdout",
     "output_type": "stream",
     "text": [
      "Samsumg\n"
     ]
    }
   ],
   "source": [
    "# get(key,default) in dictionary\n",
    "\n",
    "print(Data.get('product'))"
   ]
  },
  {
   "cell_type": "code",
   "execution_count": 86,
   "id": "4280bff4",
   "metadata": {},
   "outputs": [
    {
     "name": "stdout",
     "output_type": "stream",
     "text": [
      "Before Pop : {'product': 'Samsumg', 'price': 25000, 'quantity': 10}\n",
      "Data pop : 10\n",
      "After Pop : {'product': 'Samsumg', 'price': 25000}\n"
     ]
    }
   ],
   "source": [
    "# pop(key,default) in dictionary\n",
    "\n",
    "print(f'Before Pop : {Data}')\n",
    "print(f'Data pop : {Data.pop('quantity')}')\n",
    "print(f'After Pop : {Data}')"
   ]
  },
  {
   "cell_type": "code",
   "execution_count": 58,
   "id": "e3bcf735",
   "metadata": {},
   "outputs": [
    {
     "name": "stdout",
     "output_type": "stream",
     "text": [
      "{'product': ['Apple', 'Banana', 'Orange', 'Grapes'], 'price': [100, 50, 60, 900], 'quantity': [10, 20, 30, 90]}\n",
      "Apple = 100 * 10\n",
      "Banana = 50 * 20\n",
      "Orange = 60 * 30\n",
      "Grapes = 900 * 90\n",
      "Total Price = 99900\n"
     ]
    }
   ],
   "source": [
    "# Example 1\n",
    "# create a list of product and price and quantity\n",
    "\n",
    "product = ['Apple', 'Banana', 'Orange','Grapes']\n",
    "price = [100, 50, 60,900]\n",
    "quantity = [10, 20, 30,90]\n",
    "\n",
    "# create a dictionary of product, price and quantity\n",
    "\n",
    "Data = {'product': product, 'price': price, 'quantity': quantity}\n",
    "\n",
    "# print the dictionary\n",
    "print(Data)\n",
    "\n",
    "\n",
    "# print the product, price and quantity of the product\n",
    "for i in range(len(product)):\n",
    "    print(f'{product[i]} = {price[i]} * {quantity[i]}')\n",
    "    \n",
    "\n",
    "# print total and average price of the product\n",
    "\n",
    "total = 0\n",
    "for i in range(len(price)):\n",
    "    # total += price[i] * quantity[i]\n",
    "    total += price[i]\n",
    "    final_total = total * quantity[i]\n",
    "print(f'Total Price = {final_total}')\n",
    "\n"
   ]
  }
 ],
 "metadata": {
  "kernelspec": {
   "display_name": "Python 3",
   "language": "python",
   "name": "python3"
  },
  "language_info": {
   "codemirror_mode": {
    "name": "ipython",
    "version": 3
   },
   "file_extension": ".py",
   "mimetype": "text/x-python",
   "name": "python",
   "nbconvert_exporter": "python",
   "pygments_lexer": "ipython3",
   "version": "3.13.4"
  }
 },
 "nbformat": 4,
 "nbformat_minor": 5
}
