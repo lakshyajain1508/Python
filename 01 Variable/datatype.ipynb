{
 "cells": [
  {
   "cell_type": "code",
   "execution_count": 2,
   "id": "c363be0d",
   "metadata": {},
   "outputs": [
    {
     "name": "stdout",
     "output_type": "stream",
     "text": [
      "int: 10\n",
      "float: 10.5\n",
      "str: Hello, World!\n",
      "bool: True\n",
      "list: [1, 2, 3, 4, 5]\n",
      "tuple: (1, 2, 3, 4, 5)\n",
      "set: {1, 2, 3, 4, 5}\n",
      "dict: {'name': 'Alice', 'age': 25}\n",
      "None: None\n",
      "complex: (1+2j)\n",
      "range: [0, 1, 2, 3, 4]\n",
      "bytes: b'Hello'\n",
      "bytearray: bytearray(b'\\x00\\x00\\x00\\x00\\x00')\n"
     ]
    }
   ],
   "source": [
    "# Examples of each data type in Python\n",
    "\n",
    "# 1. int\n",
    "example_int = 10\n",
    "print(\"int:\", example_int)\n",
    "\n",
    "# 2. float\n",
    "example_float = 10.5\n",
    "print(\"float:\", example_float)\n",
    "\n",
    "# 3. str\n",
    "example_str = \"Hello, World!\"\n",
    "print(\"str:\", example_str)\n",
    "\n",
    "# 4. bool\n",
    "example_bool = True\n",
    "print(\"bool:\", example_bool)\n",
    "\n",
    "# 5. list\n",
    "example_list = [1, 2, 3, 4, 5]\n",
    "print(\"list:\", example_list)\n",
    "\n",
    "# 6. tuple\n",
    "example_tuple = (1, 2, 3, 4, 5)\n",
    "print(\"tuple:\", example_tuple)\n",
    "\n",
    "# 7. set\n",
    "example_set = {1, 2, 3, 4, 5}\n",
    "print(\"set:\", example_set)\n",
    "\n",
    "# 8. dict\n",
    "example_dict = {\"name\": \"Alice\", \"age\": 25}\n",
    "print(\"dict:\", example_dict)\n",
    "\n",
    "# 9. None\n",
    "example_none = None\n",
    "print(\"None:\", example_none)\n",
    "\n",
    "# 10. complex\n",
    "example_complex = 1 + 2j\n",
    "print(\"complex:\", example_complex)\n",
    "\n",
    "# 11. range\n",
    "example_range = range(5)\n",
    "print(\"range:\", list(example_range))\n",
    "\n",
    "# 12. bytes\n",
    "example_bytes = b\"Hello\"\n",
    "print(\"bytes:\", example_bytes)\n",
    "\n",
    "# 13. bytearray\n",
    "example_bytearray = bytearray(5)\n",
    "print(\"bytearray:\", example_bytearray)"
   ]
  },
  {
   "cell_type": "code",
   "execution_count": 3,
   "id": "cc20726a",
   "metadata": {},
   "outputs": [
    {
     "name": "stdout",
     "output_type": "stream",
     "text": [
      "<class 'int'>\n",
      "<class 'float'>\n",
      "<class 'str'>\n",
      "<class 'tuple'>\n",
      "<class 'int'>\n",
      "<class 'int'>\n",
      "<class 'tuple'>\n",
      "<class 'tuple'>\n",
      "<class 'tuple'>\n",
      "<class 'list'>\n",
      "<class 'set'>\n",
      "<class 'dict'>\n"
     ]
    }
   ],
   "source": [
    "a = 10\n",
    "print(type(a))\n",
    "a = 1.0\n",
    "print(type(a))\n",
    "a = \"p4n.in\"\n",
    "print(type(a))\n",
    "a = 10,\n",
    "print(type(a))\n",
    "a = 10\n",
    "print(type(a))\n",
    "a = (10)\n",
    "print(type(a))\n",
    "a = (10,)\n",
    "print(type(a))\n",
    "a = 10,44,33,22,11,11\n",
    "print(type(a))\n",
    "a = (10,44,33,22,11,11)\n",
    "print(type(a))\n",
    "a = [10,44,33,22,11,11]\n",
    "print(type(a))\n",
    "a = {10,44,33,22,11,11}\n",
    "print(type(a))\n",
    "a = {'name':'joy','course':'python'}\n",
    "print(type(a))"
   ]
  }
 ],
 "metadata": {
  "kernelspec": {
   "display_name": "Python 3",
   "language": "python",
   "name": "python3"
  },
  "language_info": {
   "codemirror_mode": {
    "name": "ipython",
    "version": 3
   },
   "file_extension": ".py",
   "mimetype": "text/x-python",
   "name": "python",
   "nbconvert_exporter": "python",
   "pygments_lexer": "ipython3",
   "version": "3.13.4"
  }
 },
 "nbformat": 4,
 "nbformat_minor": 5
}
