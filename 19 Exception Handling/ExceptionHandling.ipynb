{
  "cells": [
    {
      "cell_type": "code",
      "execution_count": 2,
      "metadata": {
        "colab": {
          "base_uri": "https://localhost:8080/"
        },
        "id": "AhZx2_s8FVUM",
        "outputId": "83fe6f69-14d0-40d0-e7c2-b51962034f24"
      },
      "outputs": [
        {
          "ename": "ValueError",
          "evalue": "invalid literal for int() with base 10: ''",
          "output_type": "error",
          "traceback": [
            "\u001b[31m---------------------------------------------------------------------------\u001b[39m",
            "\u001b[31mValueError\u001b[39m                                Traceback (most recent call last)",
            "\u001b[36mCell\u001b[39m\u001b[36m \u001b[39m\u001b[32mIn[2]\u001b[39m\u001b[32m, line 2\u001b[39m\n\u001b[32m      1\u001b[39m name = \u001b[38;5;28mstr\u001b[39m(\u001b[38;5;28minput\u001b[39m(\u001b[33m'\u001b[39m\u001b[33mEnter your name : \u001b[39m\u001b[33m'\u001b[39m))\n\u001b[32m----> \u001b[39m\u001b[32m2\u001b[39m age = \u001b[38;5;28;43mint\u001b[39;49m\u001b[43m(\u001b[49m\u001b[38;5;28;43minput\u001b[39;49m\u001b[43m(\u001b[49m\u001b[33;43m'\u001b[39;49m\u001b[33;43mEnter your age : \u001b[39;49m\u001b[33;43m'\u001b[39;49m\u001b[43m)\u001b[49m\u001b[43m)\u001b[49m\n\u001b[32m      3\u001b[39m height = \u001b[38;5;28mfloat\u001b[39m(\u001b[38;5;28minput\u001b[39m(\u001b[33m'\u001b[39m\u001b[33mEnter your height\u001b[39m\u001b[33m'\u001b[39m))\n\u001b[32m      5\u001b[39m \u001b[38;5;28mprint\u001b[39m(\u001b[33mf\u001b[39m\u001b[33m'\u001b[39m\u001b[33mMy name is \u001b[39m\u001b[38;5;132;01m{\u001b[39;00mname\u001b[38;5;132;01m}\u001b[39;00m\u001b[33m age is \u001b[39m\u001b[38;5;132;01m{\u001b[39;00mage\u001b[38;5;132;01m}\u001b[39;00m\u001b[33m and height is \u001b[39m\u001b[38;5;132;01m{\u001b[39;00mheight\u001b[38;5;132;01m}\u001b[39;00m\u001b[33m'\u001b[39m)\n",
            "\u001b[31mValueError\u001b[39m: invalid literal for int() with base 10: ''"
          ]
        }
      ],
      "source": [
        "name = str(input('Enter your name : '))\n",
        "age = int(input('Enter your age : '))\n",
        "height = float(input('Enter your height'))\n",
        "\n",
        "print(f'My name is {name} age is {age} and height is {height}')"
      ]
    },
    {
      "cell_type": "code",
      "execution_count": null,
      "metadata": {
        "colab": {
          "base_uri": "https://localhost:8080/",
          "height": 245
        },
        "id": "w5sJRgazGi1K",
        "outputId": "5e614e80-5311-4ff0-bfb6-0627eb1263af"
      },
      "outputs": [
        {
          "name": "stdout",
          "output_type": "stream",
          "text": [
            "Enter your name : Lakshya\n",
            "Enter your age : Laksh\n"
          ]
        },
        {
          "ename": "ValueError",
          "evalue": "invalid literal for int() with base 10: 'Laksh'",
          "output_type": "error",
          "traceback": [
            "\u001b[0;31m---------------------------------------------------------------------------\u001b[0m",
            "\u001b[0;31mValueError\u001b[0m                                Traceback (most recent call last)",
            "\u001b[0;32m<ipython-input-6-1dd7cf36420b>\u001b[0m in \u001b[0;36m<cell line: 0>\u001b[0;34m()\u001b[0m\n\u001b[1;32m      1\u001b[0m \u001b[0mname\u001b[0m \u001b[0;34m=\u001b[0m \u001b[0mstr\u001b[0m\u001b[0;34m(\u001b[0m\u001b[0minput\u001b[0m\u001b[0;34m(\u001b[0m\u001b[0;34m'Enter your name : '\u001b[0m\u001b[0;34m)\u001b[0m\u001b[0;34m)\u001b[0m\u001b[0;34m\u001b[0m\u001b[0;34m\u001b[0m\u001b[0m\n\u001b[0;32m----> 2\u001b[0;31m \u001b[0mage\u001b[0m \u001b[0;34m=\u001b[0m \u001b[0mint\u001b[0m\u001b[0;34m(\u001b[0m\u001b[0minput\u001b[0m\u001b[0;34m(\u001b[0m\u001b[0;34m'Enter your age : '\u001b[0m\u001b[0;34m)\u001b[0m\u001b[0;34m)\u001b[0m\u001b[0;34m\u001b[0m\u001b[0;34m\u001b[0m\u001b[0m\n\u001b[0m\u001b[1;32m      3\u001b[0m \u001b[0mheight\u001b[0m \u001b[0;34m=\u001b[0m \u001b[0mfloat\u001b[0m\u001b[0;34m(\u001b[0m\u001b[0minput\u001b[0m\u001b[0;34m(\u001b[0m\u001b[0;34m'Enter your height'\u001b[0m\u001b[0;34m)\u001b[0m\u001b[0;34m)\u001b[0m\u001b[0;34m\u001b[0m\u001b[0;34m\u001b[0m\u001b[0m\n\u001b[1;32m      4\u001b[0m \u001b[0;34m\u001b[0m\u001b[0m\n\u001b[1;32m      5\u001b[0m \u001b[0mprint\u001b[0m\u001b[0;34m(\u001b[0m\u001b[0;34mf'My name is {name} age is {age} and height is {height}'\u001b[0m\u001b[0;34m)\u001b[0m\u001b[0;34m\u001b[0m\u001b[0;34m\u001b[0m\u001b[0m\n",
            "\u001b[0;31mValueError\u001b[0m: invalid literal for int() with base 10: 'Laksh'"
          ]
        }
      ],
      "source": [
        "name = str(input('Enter your name : '))\n",
        "age = int(input('Enter your age : '))\n",
        "height = float(input('Enter your height'))\n",
        "\n",
        "print(f'My name is {name} age is {age} and height is {height}')"
      ]
    },
    {
      "cell_type": "code",
      "execution_count": null,
      "metadata": {
        "colab": {
          "base_uri": "https://localhost:8080/"
        },
        "id": "oWD4PSZLGzVq",
        "outputId": "50a3c1b0-5320-471d-d96a-472ace740b73"
      },
      "outputs": [
        {
          "name": "stdout",
          "output_type": "stream",
          "text": [
            "Enter your name : Lakshya\n",
            "Enter your age : lakshya\n",
            "Enter only number\n"
          ]
        }
      ],
      "source": [
        "try:\n",
        "  name = str(input('Enter your name : '))\n",
        "  age = int(input('Enter your age : '))\n",
        "  height = float(input('Enter your height'))\n",
        "\n",
        "  print(f'My name is {name} age is {age} and height is {height}')\n",
        "except ValueError:\n",
        "  print('Enter only number')\n",
        "except ValueError:\n",
        "  print('Enter only')\n"
      ]
    },
    {
      "cell_type": "code",
      "execution_count": null,
      "metadata": {
        "colab": {
          "base_uri": "https://localhost:8080/"
        },
        "id": "b-V3BQsgMwhg",
        "outputId": "cd14ccec-2662-44d9-cce5-201e507497a6"
      },
      "outputs": [
        {
          "name": "stdout",
          "output_type": "stream",
          "text": [
            "Enter your Name ... Lakshya\n",
            "Enter your age ...19\n",
            "enter your height ...0\n",
            "My name is Lakshya , age 19 and height 0\n",
            "Enter Number more then zero (don not enter zero)\n"
          ]
        }
      ],
      "source": [
        "try:\n",
        "    name = str(input('Enter your Name ... '))\n",
        "    age = int(input('Enter your age ...'))\n",
        "    height = int(input('enter your height ...'))\n",
        "\n",
        "    print(f'My name is {name} , age {age} and height {height}')\n",
        "    BMI = age/height\n",
        "    print(f'BMI is {BMI}')\n",
        "except ValueError:\n",
        "    print('Enter only Number ')\n",
        "except ZeroDivisionError:\n",
        "    print('Enter Number more then zero (don not enter zero)')"
      ]
    },
    {
      "cell_type": "code",
      "execution_count": null,
      "metadata": {
        "colab": {
          "base_uri": "https://localhost:8080/"
        },
        "id": "ZO5SVmENQAsJ",
        "outputId": "1832a20f-7d10-4aa0-f6bc-bf10b999cc02"
      },
      "outputs": [
        {
          "name": "stdout",
          "output_type": "stream",
          "text": [
            "Enter your Name ... Lakshya\n",
            "Enter your age ...19\n",
            "enter your height ...4.5\n",
            "this is err.. \n"
          ]
        }
      ],
      "source": [
        "try:\n",
        "    name = str(input('Enter your Name ... '))\n",
        "    age = int(input('Enter your age ...'))\n",
        "    height = int(input('enter your height ...'))\n",
        "\n",
        "    print(f'My name is {name} , age {age} and height {height}')\n",
        "    BMI = age/height\n",
        "    print(f'BMI is {BMI}')\n",
        "except Exception:\n",
        "    print('this is err.. ')\n"
      ]
    },
    {
      "cell_type": "code",
      "execution_count": 3,
      "metadata": {},
      "outputs": [
        {
          "name": "stdout",
          "output_type": "stream",
          "text": [
            "https://student.gtecjainerp.com/\n"
          ]
        }
      ],
      "source": [
        "# Exception Handling in python\n",
        "\n",
        "web = 'https://student.gtecjainerp.com/'\n",
        "print(web)"
      ]
    }
  ],
  "metadata": {
    "colab": {
      "provenance": []
    },
    "kernelspec": {
      "display_name": "Python 3",
      "name": "python3"
    },
    "language_info": {
      "codemirror_mode": {
        "name": "ipython",
        "version": 3
      },
      "file_extension": ".py",
      "mimetype": "text/x-python",
      "name": "python",
      "nbconvert_exporter": "python",
      "pygments_lexer": "ipython3",
      "version": "3.13.4"
    }
  },
  "nbformat": 4,
  "nbformat_minor": 0
}
