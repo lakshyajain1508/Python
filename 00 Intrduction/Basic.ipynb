{
 "cells": [
  {
   "cell_type": "code",
   "execution_count": 1,
   "id": "bb56abcd",
   "metadata": {},
   "outputs": [
    {
     "name": "stdout",
     "output_type": "stream",
     "text": [
      "Hello, World!\n"
     ]
    }
   ],
   "source": [
    "print(\"Hello, World!\")"
   ]
  },
  {
   "cell_type": "code",
   "execution_count": 2,
   "id": "2a77837e",
   "metadata": {},
   "outputs": [
    {
     "name": "stdout",
     "output_type": "stream",
     "text": [
      "My name is : Lakshya\n"
     ]
    }
   ],
   "source": [
    "name = \"Lakshya\"\n",
    "print(\"My name is :\",name)"
   ]
  },
  {
   "cell_type": "code",
   "execution_count": 3,
   "id": "bec887f9",
   "metadata": {},
   "outputs": [
    {
     "name": "stdout",
     "output_type": "stream",
     "text": [
      "Hello, Lakshya !\n"
     ]
    }
   ],
   "source": [
    "print(\"Hello,\",name,\"!\")"
   ]
  },
  {
   "cell_type": "code",
   "execution_count": 4,
   "id": "4c1385c1",
   "metadata": {},
   "outputs": [
    {
     "name": "stdout",
     "output_type": "stream",
     "text": [
      "Name : Lakshya\n",
      "Age : 19\n",
      "Height : 5.11\n"
     ]
    }
   ],
   "source": [
    "age = 19\n",
    "height = 5.11\n",
    "print(\"Name :\",name)\n",
    "print(\"Age :\",age)\n",
    "print(\"Height :\",height)\n"
   ]
  }
 ],
 "metadata": {
  "kernelspec": {
   "display_name": "Python 3",
   "language": "python",
   "name": "python3"
  },
  "language_info": {
   "codemirror_mode": {
    "name": "ipython",
    "version": 3
   },
   "file_extension": ".py",
   "mimetype": "text/x-python",
   "name": "python",
   "nbconvert_exporter": "python",
   "pygments_lexer": "ipython3",
   "version": "3.13.4"
  }
 },
 "nbformat": 4,
 "nbformat_minor": 5
}
