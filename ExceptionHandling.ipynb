{
  "nbformat": 4,
  "nbformat_minor": 0,
  "metadata": {
    "colab": {
      "provenance": []
    },
    "kernelspec": {
      "name": "python3",
      "display_name": "Python 3"
    },
    "language_info": {
      "name": "python"
    }
  },
  "cells": [
    {
      "cell_type": "code",
      "execution_count": 1,
      "metadata": {
        "colab": {
          "base_uri": "https://localhost:8080/"
        },
        "id": "uwRCB6NR-Wd7",
        "outputId": "d5b87fc8-0be2-4e1d-f28d-3cd900547533"
      },
      "outputs": [
        {
          "output_type": "stream",
          "name": "stdout",
          "text": [
            "https://student.gtecjainerp.com/\n"
          ]
        }
      ],
      "source": [
        "# Exception Handling in python\n",
        "\n",
        "web = 'https://student.gtecjainerp.com/'\n",
        "print(web)"
      ]
    },
    {
      "cell_type": "code",
      "source": [],
      "metadata": {
        "id": "ucTpLtfeB9oa"
      },
      "execution_count": null,
      "outputs": []
    }
  ]
}