{
  "cells": [
    {
      "cell_type": "code",
      "execution_count": 2,
      "metadata": {
        "id": "tj_gQVpAJyw1"
      },
      "outputs": [],
      "source": [
        "# Encapsulation\n",
        "\n",
        "class Bank:\n",
        "  def __init__(self,bankname,acc_no,balance):\n",
        "    self.bankname = bankname\n",
        "    self.acc_no = acc_no\n",
        "    self.balance = balance\n",
        "\n",
        "  def get_BankName(self):\n",
        "    return self.bankname\n",
        "  \n",
        "  def get_Acc_no(self):\n",
        "      return self.acc_no\n",
        "\n",
        "  def get_Balance(self):\n",
        "    return self.balance"
      ]
    },
    {
      "cell_type": "code",
      "execution_count": 3,
      "metadata": {
        "colab": {
          "base_uri": "https://localhost:8080/"
        },
        "id": "Bts6tzQuNgPf",
        "outputId": "c6aac162-7816-438d-913b-043f7d829463"
      },
      "outputs": [
        {
          "name": "stdout",
          "output_type": "stream",
          "text": [
            "Bank Name: Yes Bank\n",
            "Account Number: 344201000003214\n",
            "Balance: 100000\n"
          ]
        }
      ],
      "source": [
        "b = Bank(\"Yes Bank\",344201000003214,100000)\n",
        "print(f'Bank Name: {b.get_BankName()}')\n",
        "print(f'Account Number: {b.get_Acc_no()}')\n",
        "print(f'Balance: {b.get_Balance()}')"
      ]
    }
  ],
  "metadata": {
    "colab": {
      "provenance": []
    },
    "kernelspec": {
      "display_name": "Python 3",
      "language": "python",
      "name": "python3"
    },
    "language_info": {
      "codemirror_mode": {
        "name": "ipython",
        "version": 3
      },
      "file_extension": ".py",
      "mimetype": "text/x-python",
      "name": "python",
      "nbconvert_exporter": "python",
      "pygments_lexer": "ipython3",
      "version": "3.13.4"
    }
  },
  "nbformat": 4,
  "nbformat_minor": 0
}
