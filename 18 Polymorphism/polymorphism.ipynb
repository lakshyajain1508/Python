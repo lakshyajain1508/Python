{
 "cells": [
  {
   "cell_type": "code",
   "execution_count": 3,
   "id": "e999bbb3",
   "metadata": {},
   "outputs": [
    {
     "name": "stdout",
     "output_type": "stream",
     "text": [
      "Meow\n",
      "Bark\n"
     ]
    }
   ],
   "source": [
    "# Polymorphism\n",
    "\n",
    "class Animal:\n",
    "  def sound(self):\n",
    "    return \"Sound\"\n",
    "\n",
    "class Dog(Animal):\n",
    "  def sound(self):\n",
    "    return \"Bark\"\n",
    "\n",
    "class Cat(Animal):\n",
    "  def sound(self):\n",
    "    return \"Meow\"\n",
    "\n",
    "def make_sound(animal):\n",
    "  print(animal.sound())\n",
    "\n",
    "cat = Cat()\n",
    "dog = Dog()\n",
    "\n",
    "make_sound(cat)\n",
    "make_sound(dog)\n",
    "\n",
    "\n"
   ]
  },
  {
   "cell_type": "code",
   "execution_count": null,
   "id": "1c118653",
   "metadata": {},
   "outputs": [
    {
     "name": "stdout",
     "output_type": "stream",
     "text": [
      "Buddy says Woof!\n",
      "Whiskers says Meow!\n",
      "Bessie says Moo!\n"
     ]
    }
   ],
   "source": [
    "# 25 Day Polymorphism/Polymorphism with a Function and objects\n",
    "class Dog:\n",
    "    def __init__(self, name):\n",
    "        self.name = name\n",
    "\n",
    "    def speak(self):\n",
    "        return f\"{self.name} says Woof!\"\n",
    "\n",
    "class Cat:\n",
    "    def __init__(self, name):\n",
    "        self.name = name\n",
    "\n",
    "    def speak(self):\n",
    "        return f\"{self.name} says Meow!\"\n",
    "\n",
    "class Cow:\n",
    "    def __init__(self, name):\n",
    "        self.name = name\n",
    "\n",
    "    def speak(self):\n",
    "        return f\"{self.name} says Moo!\"\n",
    "\n",
    "# A function that works with objects of various classes\n",
    "def animal_speak(animal):\n",
    "    if isinstance(animal, (Dog, Cat, Cow)):\n",
    "        return animal.speak()\n",
    "    else:\n",
    "        return \"Unknown animal\"\n",
    "\n",
    "# Create instances of different animals\n",
    "dog = Dog(\"Buddy\")\n",
    "cat = Cat(\"Whiskers\")\n",
    "cow = Cow(\"Bessie\")\n",
    "\n",
    "# Use the function to make animals speak\n",
    "animals = [dog, cat, cow]\n",
    "\n",
    "for animal in animals:\n",
    "    print(animal_speak(animal))\n",
    "\n",
    " "
   ]
  },
  {
   "cell_type": "code",
   "execution_count": 5,
   "id": "9634e749",
   "metadata": {},
   "outputs": [
    {
     "name": "stdout",
     "output_type": "stream",
     "text": [
      "Buddy says Woof!\n",
      "Whiskers says Meow!\n",
      "Bessie says Moo!\n"
     ]
    }
   ],
   "source": [
    "# Polymorphism with Classes and Inheritance\n",
    "class Animal:\n",
    "    def __init__(self, name):\n",
    "        self.name = name\n",
    "\n",
    "    def speak(self):\n",
    "        pass\n",
    "\n",
    "class Dog(Animal):\n",
    "    def speak(self):\n",
    "        return f\"{self.name} says Woof!\"\n",
    "\n",
    "class Cat(Animal):\n",
    "    def speak(self):\n",
    "        return f\"{self.name} says Meow!\"\n",
    "\n",
    "class Cow(Animal):\n",
    "    def speak(self):\n",
    "        return f\"{self.name} says Moo!\"\n",
    "\n",
    "# Create instances of different animals\n",
    "dog = Dog(\"Buddy\")\n",
    "cat = Cat(\"Whiskers\")\n",
    "cow = Cow(\"Bessie\")\n",
    "\n",
    "# Polymorphic behavior\n",
    "animals = [dog, cat, cow]\n",
    "\n",
    "for animal in animals:\n",
    "    print(animal.speak())\n",
    "\n"
   ]
  }
 ],
 "metadata": {
  "kernelspec": {
   "display_name": "Python 3",
   "language": "python",
   "name": "python3"
  },
  "language_info": {
   "codemirror_mode": {
    "name": "ipython",
    "version": 3
   },
   "file_extension": ".py",
   "mimetype": "text/x-python",
   "name": "python",
   "nbconvert_exporter": "python",
   "pygments_lexer": "ipython3",
   "version": "3.13.4"
  }
 },
 "nbformat": 4,
 "nbformat_minor": 5
}
