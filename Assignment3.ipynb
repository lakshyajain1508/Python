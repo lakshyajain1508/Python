{
 "cells": [
  {
   "cell_type": "code",
   "execution_count": 1,
   "id": "52dd5c14",
   "metadata": {},
   "outputs": [
    {
     "name": "stdout",
     "output_type": "stream",
     "text": [
      "-----------------\n",
      "total sum of 1 to 10 = 55\n",
      "-----------------\n"
     ]
    }
   ],
   "source": [
    "# Write a Program to Calculate the Sum of Natural Numbers ?\n",
    "\n",
    "\n",
    "'''Example : \n",
    "Enter Start Number : 1\n",
    "Enter End Number : 10\n",
    "\n",
    "-----------------\n",
    "total sum of 1 to 10 = 55\n",
    "----------------- '''\n",
    "\n",
    "start = input()\n",
    "end = input()\n",
    "start = int(start)\n",
    "end = int(end)\n",
    "total = 0\n",
    "for i in range(start, end + 1):\n",
    "    total += i\n",
    "print(\"-----------------\")\n",
    "print(\"total sum of\", start, \"to\", end, \"=\", total)\n",
    "print(\"-----------------\")"
   ]
  },
  {
   "cell_type": "code",
   "execution_count": 18,
   "id": "1c067cd1",
   "metadata": {},
   "outputs": [
    {
     "name": "stdout",
     "output_type": "stream",
     "text": [
      "Enter print Table Number :2\n",
      "2 x 1 = 2\n",
      "2 x 2 = 4\n",
      "2 x 3 = 6\n",
      "2 x 4 = 8\n",
      "2 x 5 = 10\n",
      "2 x 6 = 12\n",
      "2 x 7 = 14\n",
      "2 x 8 = 16\n",
      "2 x 9 = 18\n",
      "2 x 10 = 20\n"
     ]
    }
   ],
   "source": [
    "# Write a Program to Generate Multiplication Table ?\n",
    "\n",
    "\n",
    "'''Enter print Table Number : 2\n",
    "\n",
    "2 x 1  = 2\n",
    "2 x 2  = 4\n",
    ".\n",
    ".\n",
    "2 x 10 = 20'''\n",
    "\n",
    "table = input()\n",
    "print(\"Enter print Table Number :\" + table)\n",
    "table = int(table)\n",
    "for i in range(1, 11):\n",
    "    print(table, \"x\", i, \"=\", table * i)"
   ]
  },
  {
   "cell_type": "code",
   "execution_count": null,
   "id": "639639b0",
   "metadata": {},
   "outputs": [
    {
     "name": "stdout",
     "output_type": "stream",
     "text": [
      "Enter Word : Lakshya\n",
      "total = count of Alphabets : 7\n"
     ]
    }
   ],
   "source": [
    "# Write a Program to Display count of Alphabets in to String\n",
    "\n",
    "'''Enter Word : p4n.in\n",
    "total = count of Alphabets : 6'''\n",
    "\n",
    "word = input()\n",
    "print(\"Enter Word :\", word)\n",
    "count = 0\n",
    "\n",
    "for char in word:\n",
    "    if char:\n",
    "        count += 1\n",
    "print(\"total = count of Alphabets :\", count)\n",
    "\n"
   ]
  },
  {
   "cell_type": "code",
   "execution_count": null,
   "id": "d09f7639",
   "metadata": {},
   "outputs": [
    {
     "name": "stdout",
     "output_type": "stream",
     "text": [
      "Enter number : 4567\n",
      "Count Number : total Digits :  4\n"
     ]
    }
   ],
   "source": [
    "# Write a Program to Count Number of Digits in an Integer\n",
    "\n",
    "'''Enter Number : 4567\n",
    "   Count Number : total Digits : 4 '''\n",
    "   \n",
    "num = input(\"Enter a number: \")\n",
    "print(\"Enter number : \" + num)\n",
    "count = 0\n",
    "for int in num:\n",
    "    if int:\n",
    "        count = count + 1\n",
    "print(\"Count Number : total Digits : \", count)\n",
    "\n",
    "num = input()\n",
    "print(\"Enter number : \" + num)\n",
    "rev = 0\n",
    "while(num>0):\n",
    "    digit = num % 10\n",
    "    rev = rev * 10 + digit\n",
    "    num = num // 10\n",
    "print(\"Reverse Number : \", rev)"
   ]
  },
  {
   "cell_type": "code",
   "execution_count": 79,
   "id": "7ebd4d62",
   "metadata": {},
   "outputs": [
    {
     "name": "stdout",
     "output_type": "stream",
     "text": [
      "Enter number :  1234\n",
      "Reverse Number :  4321\n"
     ]
    }
   ],
   "source": [
    "# Write a Program to Reverse a Number\n",
    "'''Enter Number : 4569\n",
    "Reverse Number : 9654''' \n",
    "\n",
    "num = input(\"Enter a number: \")\n",
    "print(\"Enter number : \", num)\n",
    "num = __builtins__.int(num)\n",
    "rev = 0\n",
    "while num > 0:\n",
    "    digit = num % 10\n",
    "    rev = rev * 10 + digit\n",
    "    num = num // 10\n",
    "print(\"Reverse Number : \", rev)\n",
    "\n",
    "\n"
   ]
  },
  {
   "cell_type": "code",
   "execution_count": 70,
   "id": "274444ff",
   "metadata": {},
   "outputs": [
    {
     "name": "stdout",
     "output_type": "stream",
     "text": [
      "apple\n",
      "banana\n",
      "cherry\n",
      "date\n",
      "elderberry\n",
      "fig\n",
      "grape\n"
     ]
    }
   ],
   "source": [
    "# List Iteration:\n",
    "\n",
    "'''Create a list of your favorite fruits.\n",
    "Use a for loop to iterate through the list and print each fruit.'''\n",
    "\n",
    "fruit = ('apple', 'banana', 'cherry', 'date', 'elderberry', 'fig', 'grape')\n",
    "for fruits in fruit:\n",
    "    print(fruits)"
   ]
  },
  {
   "cell_type": "code",
   "execution_count": 74,
   "id": "7da4c8ae",
   "metadata": {},
   "outputs": [
    {
     "name": "stdout",
     "output_type": "stream",
     "text": [
      "10\n",
      "9\n",
      "8\n",
      "7\n",
      "6\n",
      "5\n",
      "4\n",
      "3\n",
      "2\n",
      "1\n"
     ]
    }
   ],
   "source": [
    "# Countdown Timer: Write a program that takes an integer as input and prints a countdown from that number to 1 using a while loop.\n",
    "\n",
    "input_number = input(\"Enter a number for countdown: \")\n",
    "input_number = __builtins__.int(input_number)\n",
    "while input_number > 0:\n",
    "    print(input_number)\n",
    "    input_number -= 1"
   ]
  }
 ],
 "metadata": {
  "kernelspec": {
   "display_name": "Python 3",
   "language": "python",
   "name": "python3"
  },
  "language_info": {
   "codemirror_mode": {
    "name": "ipython",
    "version": 3
   },
   "file_extension": ".py",
   "mimetype": "text/x-python",
   "name": "python",
   "nbconvert_exporter": "python",
   "pygments_lexer": "ipython3",
   "version": "3.13.3"
  }
 },
 "nbformat": 4,
 "nbformat_minor": 5
}
