{
 "cells": [
  {
   "cell_type": "code",
   "execution_count": 1,
   "id": "52dd5c14",
   "metadata": {},
   "outputs": [
    {
     "name": "stdout",
     "output_type": "stream",
     "text": [
      "-----------------\n",
      "total sum of 1 to 10 = 55\n",
      "-----------------\n"
     ]
    }
   ],
   "source": [
    "# Write a Program to Calculate the Sum of Natural Numbers ?\n",
    "\n",
    "\n",
    "'''Example : \n",
    "Enter Start Number : 1\n",
    "Enter End Number : 10\n",
    "\n",
    "-----------------\n",
    "total sum of 1 to 10 = 55\n",
    "----------------- '''\n",
    "\n",
    "start = input()\n",
    "end = input()\n",
    "start = int(start)\n",
    "end = int(end)\n",
    "total = 0\n",
    "for i in range(start, end + 1):\n",
    "    total += i\n",
    "print(\"-----------------\")\n",
    "print(\"total sum of\", start, \"to\", end, \"=\", total)\n",
    "print(\"-----------------\")"
   ]
  },
  {
   "cell_type": "code",
   "execution_count": 18,
   "id": "1c067cd1",
   "metadata": {},
   "outputs": [
    {
     "name": "stdout",
     "output_type": "stream",
     "text": [
      "Enter print Table Number :2\n",
      "2 x 1 = 2\n",
      "2 x 2 = 4\n",
      "2 x 3 = 6\n",
      "2 x 4 = 8\n",
      "2 x 5 = 10\n",
      "2 x 6 = 12\n",
      "2 x 7 = 14\n",
      "2 x 8 = 16\n",
      "2 x 9 = 18\n",
      "2 x 10 = 20\n"
     ]
    }
   ],
   "source": [
    "# Write a Program to Generate Multiplication Table ?\n",
    "\n",
    "\n",
    "'''Enter print Table Number : 2\n",
    "\n",
    "2 x 1  = 2\n",
    "2 x 2  = 4\n",
    ".\n",
    ".\n",
    "2 x 10 = 20'''\n",
    "\n",
    "table = input()\n",
    "print(\"Enter print Table Number :\" + table)\n",
    "table = int(table)\n",
    "for i in range(1, 11):\n",
    "    print(table, \"x\", i, \"=\", table * i)"
   ]
  },
  {
   "cell_type": "code",
   "execution_count": null,
   "id": "639639b0",
   "metadata": {},
   "outputs": [
    {
     "name": "stdout",
     "output_type": "stream",
     "text": [
      "Enter Word : Lakshya\n",
      "total = count of Alphabets : 7\n"
     ]
    }
   ],
   "source": [
    "# Write a Program to Display count of Alphabets in to String\n",
    "\n",
    "'''Enter Word : p4n.in\n",
    "total = count of Alphabets : 6'''\n",
    "\n",
    "word = input()\n",
    "print(\"Enter Word :\", word)\n",
    "count = 0\n",
    "\n",
    "for char in word:\n",
    "    if char:\n",
    "        count += 1\n",
    "print(\"total = count of Alphabets :\", count)\n",
    "\n"
   ]
  },
  {
   "cell_type": "code",
   "execution_count": null,
   "id": "d09f7639",
   "metadata": {},
   "outputs": [
    {
     "name": "stdout",
     "output_type": "stream",
     "text": [
      "Enter number : 4567\n",
      "Count Number : total Digits :  4\n"
     ]
    }
   ],
   "source": [
    "# Write a Program to Count Number of Digits in an Integer\n",
    "\n",
    "'''Enter Number : 4567\n",
    "   Count Number : total Digits : 4 '''\n",
    "   \n",
    "num = input(\"Enter a number: \")\n",
    "print(\"Enter number : \" + num)\n",
    "count = 0\n",
    "for int in num:\n",
    "    if int:\n",
    "        count = count + 1\n",
    "print(\"Count Number : total Digits : \", count)\n",
    "\n",
    "num = input()\n",
    "print(\"Enter number : \" + num)\n",
    "rev = 0\n",
    "while(num>0):\n",
    "    digit = num % 10\n",
    "    rev = rev * 10 + digit\n",
    "    num = num // 10\n",
    "print(\"Reverse Number : \", rev)"
   ]
  },
  {
   "cell_type": "code",
   "execution_count": 3,
   "id": "7ebd4d62",
   "metadata": {},
   "outputs": [
    {
     "name": "stdout",
     "output_type": "stream",
     "text": [
      " 1234\n"
     ]
    },
    {
     "name": "stdout",
     "output_type": "stream",
     "text": [
      "Enter number :  1234\n",
      "Reverse Number :  4321\n"
     ]
    }
   ],
   "source": [
    "# Write a Program to Reverse a Number\n",
    "'''Enter Number : 4569\n",
    "Reverse Number : 9654''' \n",
    "\n",
    "num = input()\n",
    "print(\"Enter number : \", num)\n",
    "num = int(num)\n",
    "rev = 0\n",
    "while num > 0:\n",
    "    digit = num % 10\n",
    "    rev = rev * 10 + digit\n",
    "    num = num // 10\n",
    "print(\"Reverse Number : \", rev)\n",
    "\n",
    "\n"
   ]
  },
  {
   "cell_type": "code",
   "execution_count": 70,
   "id": "274444ff",
   "metadata": {},
   "outputs": [
    {
     "name": "stdout",
     "output_type": "stream",
     "text": [
      "apple\n",
      "banana\n",
      "cherry\n",
      "date\n",
      "elderberry\n",
      "fig\n",
      "grape\n"
     ]
    }
   ],
   "source": [
    "# List Iteration:\n",
    "\n",
    "'''Create a list of your favorite fruits.\n",
    "Use a for loop to iterate through the list and print each fruit.'''\n",
    "\n",
    "fruit = ('apple', 'banana', 'cherry', 'date', 'elderberry', 'fig', 'grape')\n",
    "for fruits in fruit:\n",
    "    print(fruits)"
   ]
  },
  {
   "cell_type": "code",
   "execution_count": 1,
   "id": "7da4c8ae",
   "metadata": {},
   "outputs": [
    {
     "name": "stdout",
     "output_type": "stream",
     "text": [
      "Enter a number for countdown:  10\n"
     ]
    },
    {
     "name": "stdout",
     "output_type": "stream",
     "text": [
      "10\n",
      "9\n",
      "8\n",
      "7\n",
      "6\n",
      "5\n",
      "4\n",
      "3\n",
      "2\n",
      "1\n"
     ]
    }
   ],
   "source": [
    "# Countdown Timer: Write a program that takes an integer as input and prints a countdown from that number to 1 using a while loop.\n",
    "\n",
    "input_number = input(\"Enter a number for countdown: \")\n",
    "input_number = int(input_number)\n",
    "while input_number > 0:\n",
    "    print(input_number)\n",
    "    input_number -= 1"
   ]
  },
  {
   "cell_type": "code",
   "execution_count": 22,
   "id": "421a11e5-ba18-43fe-b9a6-be83a36d1ebd",
   "metadata": {},
   "outputs": [
    {
     "name": "stdout",
     "output_type": "stream",
     "text": [
      " 14660\n"
     ]
    },
    {
     "name": "stdout",
     "output_type": "stream",
     "text": [
      "Password :  14660\n",
      "Password was incorrect.\n"
     ]
    },
    {
     "name": "stdout",
     "output_type": "stream",
     "text": [
      "Try again:  150806\n"
     ]
    },
    {
     "name": "stdout",
     "output_type": "stream",
     "text": [
      "Password :  150806\n",
      "Password was correct.\n"
     ]
    }
   ],
   "source": [
    "'''Password Guessing Game:\n",
    "Choose a secret password and ask the user to guess it.\n",
    "Use a while loop to continue prompting the user until they correctly guess the password.'''\n",
    "\n",
    "password = \"150806\"\n",
    "user_pass = input()\n",
    "print(\"Password : \", user_pass)\n",
    "\n",
    "while True:\n",
    "    if user_pass != password:\n",
    "        print(\"Password was incorrect.\")\n",
    "        user_pass = input(\"Try again: \")\n",
    "        print(\"Password : \", user_pass)\n",
    "    else:\n",
    "        print(\"Password was correct.\")\n",
    "        break\n"
   ]
  },
  {
   "cell_type": "code",
   "execution_count": 15,
   "id": "3514d057",
   "metadata": {},
   "outputs": [
    {
     "name": "stdout",
     "output_type": "stream",
     "text": [
      "2\n",
      "4\n",
      "6\n",
      "8\n",
      "10\n"
     ]
    }
   ],
   "source": [
    "# Even Number Generator:Write a program that generates and prints the first 5 even numbers starting from 1 using a while loop.\n",
    "\n",
    "count = 0\n",
    "num = 1\n",
    "while count < 5:\n",
    "    if num % 2 == 0:\n",
    "        print(num)\n",
    "        count += 1\n",
    "    num += 1\n",
    "    \n",
    "\n"
   ]
  },
  {
   "cell_type": "code",
   "execution_count": 83,
   "id": "4a07d1ca-1cc3-4122-80af-7088086945c5",
   "metadata": {},
   "outputs": [
    {
     "name": "stdin",
     "output_type": "stream",
     "text": [
      "Enter a number to calculate its factorial:  5\n"
     ]
    },
    {
     "name": "stdout",
     "output_type": "stream",
     "text": [
      "Factorial:  120\n"
     ]
    }
   ],
   "source": [
    "# Factorial Calculator:Write a program that takes an integer as input and calculates its factorial starting from 1 using a while loop.Print the result\n",
    "\n",
    "num = int(input(\"Enter a number to calculate its factorial: \"))\n",
    "i = 1\n",
    "while num > 0:\n",
    "    i *= num\n",
    "    num -= 1\n",
    "print(\"Factorial: \", i)\n",
    "        \n",
    "        "
   ]
  }
 ],
 "metadata": {
  "kernelspec": {
   "display_name": "Python 3 (ipykernel)",
   "language": "python",
   "name": "python3"
  },
  "language_info": {
   "codemirror_mode": {
    "name": "ipython",
    "version": 3
   },
   "file_extension": ".py",
   "mimetype": "text/x-python",
   "name": "python",
   "nbconvert_exporter": "python",
   "pygments_lexer": "ipython3",
   "version": "3.12.7"
  }
 },
 "nbformat": 4,
 "nbformat_minor": 5
}
