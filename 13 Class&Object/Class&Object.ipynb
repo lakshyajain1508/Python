{
  "cells": [
    {
      "cell_type": "code",
      "execution_count": 4,
      "metadata": {
        "id": "EYwQJH0kRWq-"
      },
      "outputs": [],
      "source": [
        "# Create class\n",
        "class Employee:\n",
        "  def info():\n",
        "    name = \"Lakshya\"\n",
        "    print(\"Name: \",name)\n",
        "    print(\"Age: \",19)\n"
      ]
    },
    {
      "cell_type": "code",
      "execution_count": 5,
      "metadata": {
        "colab": {
          "base_uri": "https://localhost:8080/"
        },
        "id": "qMyzJDFJS__6",
        "outputId": "9e07b989-ec82-449a-d868-7979a3186e6a"
      },
      "outputs": [
        {
          "name": "stdout",
          "output_type": "stream",
          "text": [
            "Name:  Lakshya\n",
            "Age:  19\n"
          ]
        }
      ],
      "source": [
        "# ObjectName = ClassName\n",
        "\n",
        "em = Employee\n",
        "em.info()"
      ]
    },
    {
      "cell_type": "code",
      "execution_count": 9,
      "metadata": {
        "id": "o69yAL5LXy2u"
      },
      "outputs": [],
      "source": [
        "class Student:\n",
        "  def Name():\n",
        "    print(\"Name: Lakshya\")\n",
        "  def Age():\n",
        "    print(\"Age: 19\")\n",
        "  def Height():\n",
        "    print(\"Height: 5.11\")"
      ]
    },
    {
      "cell_type": "code",
      "execution_count": 10,
      "metadata": {
        "colab": {
          "base_uri": "https://localhost:8080/"
        },
        "id": "XJ9CbEpPYU0-",
        "outputId": "20d9e7f9-6010-42fc-c7af-447fe691ee82"
      },
      "outputs": [
        {
          "name": "stdout",
          "output_type": "stream",
          "text": [
            "Name: Lakshya\n",
            "Age: 19\n",
            "Height: 5.11\n"
          ]
        }
      ],
      "source": [
        "sc = Student\n",
        "sc.Name()\n",
        "sc.Age()\n",
        "sc.Height()"
      ]
    },
    {
      "cell_type": "code",
      "execution_count": 5,
      "metadata": {},
      "outputs": [
        {
          "name": "stdout",
          "output_type": "stream",
          "text": [
            "Hello, my name is Laksh, and I am 19 years old.\n"
          ]
        }
      ],
      "source": [
        "# If it is not undestand than go to Constructor Topic to learn about self\n",
        "\n",
        "class Person2:\n",
        "    def __init__(self):\n",
        "        name = str(input(\"Enter the name: \"))\n",
        "        age = int(input(\"Enter the age: \"))\n",
        "        self.name = name\n",
        "        self.age = age\n",
        "\n",
        "    def greet(self):\n",
        "        print(f\"Hello, my name is {self.name}, and I am {self.age} years old.\")\n",
        "\n",
        "obj2 = Person2()\n",
        "obj2.greet()\n"
      ]
    }
  ],
  "metadata": {
    "colab": {
      "provenance": []
    },
    "kernelspec": {
      "display_name": "Python 3",
      "name": "python3"
    },
    "language_info": {
      "codemirror_mode": {
        "name": "ipython",
        "version": 3
      },
      "file_extension": ".py",
      "mimetype": "text/x-python",
      "name": "python",
      "nbconvert_exporter": "python",
      "pygments_lexer": "ipython3",
      "version": "3.13.4"
    }
  },
  "nbformat": 4,
  "nbformat_minor": 0
}
