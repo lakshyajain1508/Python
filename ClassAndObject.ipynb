{
  "nbformat": 4,
  "nbformat_minor": 0,
  "metadata": {
    "colab": {
      "provenance": []
    },
    "kernelspec": {
      "name": "python3",
      "display_name": "Python 3"
    },
    "language_info": {
      "name": "python"
    }
  },
  "cells": [
    {
      "cell_type": "code",
      "execution_count": 4,
      "metadata": {
        "id": "EYwQJH0kRWq-"
      },
      "outputs": [],
      "source": [
        "# Create class\n",
        "class Employee:\n",
        "  def info():\n",
        "    name = \"Lakshya\"\n",
        "    print(\"Name: \",name)\n",
        "    print(\"Age: \",19)\n"
      ]
    },
    {
      "cell_type": "code",
      "source": [
        "# ObjectName = ClassName\n",
        "\n",
        "em = Employee\n",
        "em.info()"
      ],
      "metadata": {
        "colab": {
          "base_uri": "https://localhost:8080/"
        },
        "id": "qMyzJDFJS__6",
        "outputId": "9e07b989-ec82-449a-d868-7979a3186e6a"
      },
      "execution_count": 5,
      "outputs": [
        {
          "output_type": "stream",
          "name": "stdout",
          "text": [
            "Name:  Lakshya\n",
            "Age:  19\n"
          ]
        }
      ]
    },
    {
      "cell_type": "code",
      "source": [
        "class Student:\n",
        "  def Name():\n",
        "    print(\"Name: Lakshya\")\n",
        "  def Age():\n",
        "    print(\"Age: 19\")\n",
        "  def Height():\n",
        "    print(\"Height: 5.11\")"
      ],
      "metadata": {
        "id": "o69yAL5LXy2u"
      },
      "execution_count": 9,
      "outputs": []
    },
    {
      "cell_type": "code",
      "source": [
        "sc = Student\n",
        "sc.Name()\n",
        "sc.Age()\n",
        "sc.Height()"
      ],
      "metadata": {
        "colab": {
          "base_uri": "https://localhost:8080/"
        },
        "id": "XJ9CbEpPYU0-",
        "outputId": "20d9e7f9-6010-42fc-c7af-447fe691ee82"
      },
      "execution_count": 10,
      "outputs": [
        {
          "output_type": "stream",
          "name": "stdout",
          "text": [
            "Name: Lakshya\n",
            "Age: 19\n",
            "Height: 5.11\n"
          ]
        }
      ]
    }
  ]
}