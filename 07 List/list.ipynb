{
 "cells": [
  {
   "cell_type": "code",
   "execution_count": 1,
   "id": "97dc5d7a",
   "metadata": {},
   "outputs": [],
   "source": [
    "# list in python\n",
    "\n",
    "#int type list\n",
    "int_list = [1, 2, 3, 4, 5]\n",
    "#float type list\n",
    "float_list = [1.1, 2.2, 3.3, 4.4, 5.5]\n",
    "#string type list\n",
    "string_list = [\"apple\", \"banana\", \"cherry\", \"date\", \"elderberry\"]\n",
    "#mixed type list\n",
    "mixed_list = [1, 2.2, \"three\", \"four\", 5]"
   ]
  },
  {
   "cell_type": "code",
   "execution_count": 2,
   "id": "b96acbb7",
   "metadata": {},
   "outputs": [
    {
     "name": "stdout",
     "output_type": "stream",
     "text": [
      "[1, 2, 3, 4, 5]\n",
      "[1.1, 2.2, 3.3, 4.4, 5.5]\n",
      "['apple', 'banana', 'cherry', 'date', 'elderberry']\n",
      "[1, 2.2, 'three', 'four', 5]\n"
     ]
    }
   ],
   "source": [
    "print(int_list)\n",
    "print(float_list)\n",
    "print(string_list)\n",
    "print(mixed_list)"
   ]
  },
  {
   "cell_type": "code",
   "execution_count": 7,
   "id": "30b4f5e5",
   "metadata": {},
   "outputs": [
    {
     "name": "stdout",
     "output_type": "stream",
     "text": [
      "55\n",
      "77\n"
     ]
    }
   ],
   "source": [
    "# List :\n",
    "# accessing elements\n",
    "data = [22,33, 44, 55, 66, 77, 88, 99]\n",
    "\n",
    "print(data[3])\n",
    "print(data[5])"
   ]
  },
  {
   "cell_type": "code",
   "execution_count": 8,
   "id": "c62e477e",
   "metadata": {},
   "outputs": [
    {
     "name": "stdout",
     "output_type": "stream",
     "text": [
      "[40, 50, 60]\n",
      "[40, 50, 60, 70]\n",
      "[10, 20, 30, 40, 50, 60]\n",
      "[10, 20, 30, 40, 50, 60, 70]\n"
     ]
    }
   ],
   "source": [
    "# slicing\n",
    "data = [10,20,30,40,50,60,70]\n",
    "print(data[3:6])\n",
    "print(data[3:])\n",
    "print(data[:6])\n",
    "print(data[:])"
   ]
  },
  {
   "cell_type": "code",
   "execution_count": 22,
   "id": "4abf15f4",
   "metadata": {},
   "outputs": [
    {
     "name": "stdout",
     "output_type": "stream",
     "text": [
      "[10, 20, 30, 40, 50, 60, 70, 80]\n"
     ]
    }
   ],
   "source": [
    "# methods\n",
    "# adding elements\n",
    "data = [10,20,30,40,50,60,70]\n",
    "data.insert(7, 80)\n",
    "print(data)"
   ]
  },
  {
   "cell_type": "code",
   "execution_count": 23,
   "id": "b24b99c8",
   "metadata": {},
   "outputs": [
    {
     "name": "stdout",
     "output_type": "stream",
     "text": [
      "[10, 20, 30, 40, 50, 60, 70, 80, 90, 100]\n"
     ]
    }
   ],
   "source": [
    "# extending the list\n",
    "new_data = [90,100]\n",
    "data.extend(new_data)\n",
    "print(data)"
   ]
  },
  {
   "cell_type": "code",
   "execution_count": 29,
   "id": "05c1a14a",
   "metadata": {},
   "outputs": [
    {
     "name": "stdout",
     "output_type": "stream",
     "text": [
      "[2, 4, 6, 8, 10, 12, 14]\n"
     ]
    }
   ],
   "source": [
    "# appending an element\n",
    "data = [2,4,6,8,10,12]\n",
    "data.append(14)\n",
    "print(data)"
   ]
  },
  {
   "cell_type": "code",
   "execution_count": null,
   "id": "b549b2af",
   "metadata": {},
   "outputs": [
    {
     "name": "stdout",
     "output_type": "stream",
     "text": [
      "[2, [30, 60, 90], [30, 60, 90], 4, 6, 8, 10, 12, 14]\n",
      "60\n"
     ]
    }
   ],
   "source": [
    "d = [30,60,90]\n",
    "data.insert(1, d)\n",
    "print(data)\n",
    "\n",
    "print(data[1][1]) # Accessing an element from the nested list"
   ]
  },
  {
   "cell_type": "code",
   "execution_count": 32,
   "id": "4fc6239d",
   "metadata": {},
   "outputs": [
    {
     "name": "stdout",
     "output_type": "stream",
     "text": [
      "[11, 22, 33, 44, 66, 77, 88, 99]\n"
     ]
    }
   ],
   "source": [
    "# removing elements\n",
    "data = [11, 22, 33, 44, 55, 66, 77, 88, 99]\n",
    "data.remove(55)  # Remove the first occurrence of 55\n",
    "print(data)"
   ]
  },
  {
   "cell_type": "code",
   "execution_count": 36,
   "id": "c2c347bb",
   "metadata": {},
   "outputs": [
    {
     "name": "stdout",
     "output_type": "stream",
     "text": [
      "Popped element: 99\n",
      "[11, 22, 33, 44, 55, 66, 77, 88]\n"
     ]
    }
   ],
   "source": [
    "# popping elements\n",
    "data = [11, 22, 33, 44, 55, 66, 77, 88, 99]\n",
    "popped_element = data.pop()  # Remove and return the last element\n",
    "print(\"Popped element:\", popped_element)\n",
    "print(data)"
   ]
  },
  {
   "cell_type": "code",
   "execution_count": 38,
   "id": "8eea3373",
   "metadata": {},
   "outputs": [
    {
     "name": "stdout",
     "output_type": "stream",
     "text": [
      "Sum of elements: 15\n",
      "Minimum value: 1\n",
      "Maximum value: 5\n",
      "Length of the list: 5\n",
      "Sorted list: [1, 2, 3, 4, 5]\n",
      "Reversed list: [5, 4, 3, 2, 1]\n"
     ]
    }
   ],
   "source": [
    "data = [1,2,3,4,5]\n",
    "\n",
    "# sum()\n",
    "total_sum = sum(data)\n",
    "print(\"Sum of elements:\", total_sum)\n",
    "# min() and max()\n",
    "min_value = min(data)\n",
    "max_value = max(data)\n",
    "print(\"Minimum value:\", min_value)\n",
    "print(\"Maximum value:\", max_value)\n",
    "# length of the list\n",
    "length_of_data = len(data)\n",
    "print(\"Length of the list:\", length_of_data)\n",
    "# sorting the list\n",
    "data.sort()\n",
    "print(\"Sorted list:\", data)\n",
    "# reversing the list\n",
    "data.reverse()\n",
    "print(\"Reversed list:\", data)"
   ]
  },
  {
   "cell_type": "code",
   "execution_count": 39,
   "id": "9b7df84c",
   "metadata": {},
   "outputs": [
    {
     "name": "stdout",
     "output_type": "stream",
     "text": [
      "1\n",
      "2\n",
      "3\n",
      "4\n",
      "5\n"
     ]
    }
   ],
   "source": [
    "# for loop\n",
    "data = [1,2,3,4,5]\n",
    "for i in data:\n",
    "    print(i)"
   ]
  },
  {
   "cell_type": "code",
   "execution_count": 40,
   "id": "9575da2b",
   "metadata": {},
   "outputs": [
    {
     "name": "stdout",
     "output_type": "stream",
     "text": [
      "banana\n",
      "apple\n",
      "grapes\n"
     ]
    }
   ],
   "source": [
    "# how to take user input in a list\n",
    "size = int(input(\"Enter the size of the list: \"))\n",
    "food = []\n",
    "for i in range(size):\n",
    "    item = input(\"Enter food item: \")\n",
    "    food.append(item)\n",
    "    \n",
    "for item in food:\n",
    "    print(item)  "
   ]
  }
 ],
 "metadata": {
  "kernelspec": {
   "display_name": "Python 3",
   "language": "python",
   "name": "python3"
  },
  "language_info": {
   "codemirror_mode": {
    "name": "ipython",
    "version": 3
   },
   "file_extension": ".py",
   "mimetype": "text/x-python",
   "name": "python",
   "nbconvert_exporter": "python",
   "pygments_lexer": "ipython3",
   "version": "3.13.4"
  }
 },
 "nbformat": 4,
 "nbformat_minor": 5
}
