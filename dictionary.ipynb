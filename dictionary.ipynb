{
  "nbformat": 4,
  "nbformat_minor": 0,
  "metadata": {
    "colab": {
      "provenance": []
    },
    "kernelspec": {
      "name": "python3",
      "display_name": "Python 3"
    },
    "language_info": {
      "name": "python"
    }
  },
  "cells": [
    {
      "cell_type": "code",
      "execution_count": null,
      "metadata": {
        "id": "n0tRZBBnoKm1",
        "colab": {
          "base_uri": "https://localhost:8080/"
        },
        "outputId": "4837a95a-fd40-48d2-e66f-9ccd221ebe91"
      },
      "outputs": [
        {
          "output_type": "stream",
          "name": "stdout",
          "text": [
            "{'name': 'joy', 'age': 25, 'height': 5.4}\n"
          ]
        }
      ],
      "source": [
        "#Dictionary\n",
        "\n",
        "data = {'name':'joy','age':25,'height':5.4}\n",
        "print(data)"
      ]
    },
    {
      "cell_type": "code",
      "source": [
        "#  access data\n",
        "print(data['name'])\n",
        "\n",
        "# 2nd Type\n",
        "x = data['name']\n",
        "print(x)"
      ],
      "metadata": {
        "colab": {
          "base_uri": "https://localhost:8080/"
        },
        "id": "C4l4eaRYx4-2",
        "outputId": "3104f3b0-53c9-4b86-cd1c-6e30935dd1f1"
      },
      "execution_count": null,
      "outputs": [
        {
          "output_type": "stream",
          "name": "stdout",
          "text": [
            "joy\n",
            "joy\n"
          ]
        }
      ]
    },
    {
      "cell_type": "code",
      "source": [
        "# add data\n",
        "\n",
        "data['city'] = 'mumbai'\n",
        "print(data)"
      ],
      "metadata": {
        "colab": {
          "base_uri": "https://localhost:8080/"
        },
        "id": "aubGU5pvyElU",
        "outputId": "77d99cf2-9fdd-4f0c-8e04-0e349fc3de17"
      },
      "execution_count": null,
      "outputs": [
        {
          "output_type": "stream",
          "name": "stdout",
          "text": [
            "{'name': 'joy', 'age': 25, 'height': 5.4, 'city': 'mumbai'}\n"
          ]
        }
      ]
    },
    {
      "cell_type": "code",
      "source": [
        "data = {'name': 'joy', 'age': 25, 'height': 5.4, 'city': 'mumbai'}\n",
        "for i in data:\n",
        "  print(i ,\"=\",data[i])"
      ],
      "metadata": {
        "colab": {
          "base_uri": "https://localhost:8080/"
        },
        "id": "v1Dde4gyY-uC",
        "outputId": "6c610ffc-41b4-4dc7-e9d4-427d731c7d66"
      },
      "execution_count": 14,
      "outputs": [
        {
          "output_type": "stream",
          "name": "stdout",
          "text": [
            "name = joy\n",
            "age = 25\n",
            "height = 5.4\n",
            "city = mumbai\n"
          ]
        }
      ]
    },
    {
      "cell_type": "code",
      "source": [
        "# Methods\n",
        "\n",
        "data = {'name':'joy','age':25,'height':5.2,'city': 'mumbai'}\n",
        "\n",
        "# key: Returns a list of all keys in the dictionary.\n",
        "print(data.keys())\n",
        "\n",
        "# values: Returns a list of all values in the dictionary.\n",
        "print(data.values())\n",
        "\n",
        "# items: Returns a list of key-value pairs as tuples.\n",
        "print(data.items())\n",
        "\n",
        "# get(key,default): Returns the value for a key if it exists, else returns a default value.\n",
        "print(data.get('age'))\n",
        "\n",
        "# pop(key,default): Removes and returns the value associated with the key.\n",
        "print('before pop()',data)\n",
        "print(data.pop('city'))\n",
        "print('after pop()',data)"
      ],
      "metadata": {
        "colab": {
          "base_uri": "https://localhost:8080/"
        },
        "id": "KaqlZ-JQybsN",
        "outputId": "4305b70d-4535-4b7b-fde3-4a24123f6e9e"
      },
      "execution_count": 11,
      "outputs": [
        {
          "output_type": "stream",
          "name": "stdout",
          "text": [
            "dict_keys(['name', 'age', 'height', 'city'])\n",
            "dict_values(['joy', 25, 5.2, 'mumbai'])\n",
            "dict_items([('name', 'joy'), ('age', 25), ('height', 5.2), ('city', 'mumbai')])\n",
            "25\n",
            "before pop() {'name': 'joy', 'age': 25, 'height': 5.2, 'city': 'mumbai'}\n",
            "mumbai\n",
            "after pop() {'name': 'joy', 'age': 25, 'height': 5.2}\n"
          ]
        }
      ]
    }
  ]
}