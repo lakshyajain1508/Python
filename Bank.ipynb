{
  "nbformat": 4,
  "nbformat_minor": 0,
  "metadata": {
    "colab": {
      "provenance": []
    },
    "kernelspec": {
      "name": "python3",
      "display_name": "Python 3"
    },
    "language_info": {
      "name": "python"
    }
  },
  "cells": [
    {
      "cell_type": "code",
      "execution_count": 36,
      "metadata": {
        "id": "QaGrPs8FbO_z"
      },
      "outputs": [],
      "source": [
        "class Bank:\n",
        "  def bank(self):\n",
        "    print(\"Yes Bank\")\n",
        "  def amount(self,amount):\n",
        "    self.amount = amount\n",
        "    print(\"Amount Received :\",amount)\n",
        "  def deposit(self,deposit_amount):\n",
        "    update_amount = self.amount + deposit_amount\n",
        "    print(\"Deposit :\",deposit_amount)\n",
        "    self.update_amount = update_amount\n",
        "  def withdraw(self,withdraw_amount):\n",
        "    update_amount = self.update_amount - withdraw_amount\n",
        "    print(\"Withdraw :\",withdraw_amount)\n",
        "    self.update_amount = update_amount\n",
        "  def tax(self,tax_amount):\n",
        "    update_amount = self.update_amount*tax_amount/100\n",
        "    print(\"Tax :\",tax_amount)\n",
        "    self.update_amount = update_amount\n",
        "  def customer_info(self,name,acc):\n",
        "    print(\"----------Output----------\")\n",
        "    print(\"Name :\",name)\n",
        "    print(\"Account Number :\",acc)\n",
        "  def Balance(self):\n",
        "    print(\"Balance :\",self.update_amount)\n",
        "\n",
        ""
      ]
    },
    {
      "cell_type": "code",
      "source": [
        "b = Bank()\n",
        "b.bank()\n",
        "b.amount(3000)\n",
        "b.deposit(200)\n",
        "b.withdraw(100)\n",
        "b.tax(18)\n",
        "b.customer_info(\"Lakshya Jain\",\"xxxx3402\")\n",
        "b.Balance()\n"
      ],
      "metadata": {
        "colab": {
          "base_uri": "https://localhost:8080/"
        },
        "id": "miDtkjbEevw6",
        "outputId": "5fac64a5-6ab0-42b7-b998-7bd1de41ac5c"
      },
      "execution_count": 37,
      "outputs": [
        {
          "output_type": "stream",
          "name": "stdout",
          "text": [
            "Yes Bank\n",
            "Amount Received : 3000\n",
            "Deposit : 200\n",
            "Withdraw : 100\n",
            "Tax : 18\n",
            "----------Output----------\n",
            "Name : Lakshya Jain\n",
            "Account Number : xxxx3402\n",
            "Balance : 558.0\n"
          ]
        }
      ]
    }
  ]
}