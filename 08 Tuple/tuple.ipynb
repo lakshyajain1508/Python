{
 "cells": [
  {
   "cell_type": "code",
   "execution_count": 23,
   "id": "2e2c1993",
   "metadata": {},
   "outputs": [
    {
     "name": "stdout",
     "output_type": "stream",
     "text": [
      "<class 'tuple'>\n",
      "('apple', 'banana', 'Mango', 'pineapple')\n"
     ]
    }
   ],
   "source": [
    "# Tuple in python\n",
    "# Tuple is a collection of items which is ordered and unchangeable. Allows duplicate members.\n",
    "# Tuple is defined by values separated by commas, enclosed in parentheses.\n",
    "# Create a Tuple:\n",
    "\n",
    "tuple1 = (\"apple\", \"banana\", \"Mango\",\"pineapple\")\n",
    "print(type(tuple1))\n",
    "print(tuple1)"
   ]
  },
  {
   "cell_type": "code",
   "execution_count": 6,
   "id": "0b9d067e",
   "metadata": {},
   "outputs": [
    {
     "name": "stdout",
     "output_type": "stream",
     "text": [
      "banana\n",
      "pineapple\n"
     ]
    }
   ],
   "source": [
    "# Access Tuple Items:\n",
    "# You can access tuple items by referring to the index number, inside square brackets.\n",
    "# Negative indexing means beginning from the end, -1 refers to the last item, -2 refers to the second last item etc.\n",
    "\n",
    "print(tuple1[1])\n",
    "print(tuple1[-1])"
   ]
  },
  {
   "cell_type": "code",
   "execution_count": 7,
   "id": "dfdfd78d",
   "metadata": {},
   "outputs": [
    {
     "name": "stdout",
     "output_type": "stream",
     "text": [
      "('apple', 'banana')\n",
      "('apple', 'banana', 'Mango')\n",
      "('Mango', 'pineapple')\n"
     ]
    }
   ],
   "source": [
    "# Range of Indexes:\n",
    "# You can specify a range of indexes by specifying where to start and where to end the range.\n",
    "# When specifying a range, the return value will be a new tuple with the specified items.\n",
    "# The start index defaults to 0 and the end index defaults to the last item in the list\n",
    "print(tuple1[0:2])\n",
    "print(tuple1[:3])\n",
    "print(tuple1[2:])"
   ]
  },
  {
   "cell_type": "code",
   "execution_count": 17,
   "id": "5b4199a4",
   "metadata": {},
   "outputs": [
    {
     "name": "stdout",
     "output_type": "stream",
     "text": [
      "('kiwi', 20.3, 801, 'L')\n"
     ]
    }
   ],
   "source": [
    "# Change Tuple Values:\n",
    "# Once a tuple is created, you cannot change its values. Tuples are unchangeable, or immutable as it also is called.\n",
    "# But there is a workaround. You can convert the tuple into a list, change the list, and convert the list back into a tuple.\n",
    "tuple1 = (\"apple\", 20.3, 801, 'L')\n",
    "x = list(tuple1)\n",
    "x[0] = \"kiwi\"\n",
    "tuple1 = tuple(x)\n",
    "print(tuple1)"
   ]
  },
  {
   "cell_type": "code",
   "execution_count": 18,
   "id": "5b942a48",
   "metadata": {},
   "outputs": [
    {
     "name": "stdout",
     "output_type": "stream",
     "text": [
      "kiwi\n",
      "20.3\n",
      "801\n",
      "L\n"
     ]
    }
   ],
   "source": [
    "# Loop Through a Tuple:\n",
    "# You can loop through the tuple items by using a for loop.\n",
    "for i in tuple1:\n",
    "    print(i)"
   ]
  },
  {
   "cell_type": "code",
   "execution_count": 19,
   "id": "02035275",
   "metadata": {},
   "outputs": [
    {
     "name": "stdout",
     "output_type": "stream",
     "text": [
      "4\n"
     ]
    }
   ],
   "source": [
    "# count() Method:\n",
    "# count() method returns the number of times a specified value occurs in a tuple.\n",
    "\n",
    "data = (11, 22, 33, 44, 55, 66, 22, 88, 99, 22, 33, 44, 55, 22, 77, 88, 99)\n",
    "print(data.count(22))"
   ]
  },
  {
   "cell_type": "code",
   "execution_count": 22,
   "id": "6ca403c6",
   "metadata": {},
   "outputs": [
    {
     "name": "stdout",
     "output_type": "stream",
     "text": [
      "2\n"
     ]
    }
   ],
   "source": [
    "# index() Method:\n",
    "# index() method finds the first occurrence of the specified value.\n",
    "# index() method raises an exception if the value is not found.\n",
    "print(data.index(33))"
   ]
  }
 ],
 "metadata": {
  "kernelspec": {
   "display_name": "Python 3",
   "language": "python",
   "name": "python3"
  },
  "language_info": {
   "codemirror_mode": {
    "name": "ipython",
    "version": 3
   },
   "file_extension": ".py",
   "mimetype": "text/x-python",
   "name": "python",
   "nbconvert_exporter": "python",
   "pygments_lexer": "ipython3",
   "version": "3.13.4"
  }
 },
 "nbformat": 4,
 "nbformat_minor": 5
}
