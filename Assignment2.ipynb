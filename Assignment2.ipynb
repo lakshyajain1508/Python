{
 "cells": [
  {
   "cell_type": "code",
   "execution_count": null,
   "id": "3d038eae",
   "metadata": {},
   "outputs": [
    {
     "name": "stdout",
     "output_type": "stream",
     "text": [
      "Grade 1 - 30 = fail\n",
      "Grade 31 - 50 = C\n",
      "Grade 51 - 79 = B\n",
      "Grade 80 - 100 = A\n",
      "\n",
      "Enter your exam score: 90\n",
      "Your Grade is A\n"
     ]
    }
   ],
   "source": [
    "# Grade Classifier: Task: This program prompts the user to enter their exam score and then classifies their grade based on the score. Sample Output:\n",
    "'''Grade 1 - 30 = fail\n",
    "Grade 31 - 50 = C\n",
    "Grade 51 - 79 = B\n",
    "Grade 80 - 100 = A\n",
    "\n",
    "Enter your exam score: 85\n",
    "Your grade is A.'''\n",
    "\n",
    "print(\"Grade 1 - 30 = fail\")\n",
    "print(\"Grade 31 - 50 = C\")\n",
    "print(\"Grade 51 - 79 = B\")\n",
    "print(\"Grade 80 - 100 = A\")\n",
    "print()\n",
    "\n",
    "score1 = input()\n",
    "print(\"Enter your exam score: \" + score1)\n",
    "exam = int(score1)\n",
    "\n",
    "if (exam<=30):\n",
    "    print(\"You are fail.\")\n",
    "\n",
    "elif(exam<=50):\n",
    "    print(\"Your Grade is C\")\n",
    "\n",
    "elif(exam<=70):\n",
    "    print(\"Your Grade is B\")\n",
    "\n",
    "else:\n",
    "    print(\"Your Grade is A\")\n",
    "\n"
   ]
  },
  {
   "cell_type": "code",
   "execution_count": 22,
   "id": "5951589d",
   "metadata": {},
   "outputs": [
    {
     "name": "stdout",
     "output_type": "stream",
     "text": [
      "Enter the first number: 10\n",
      "Enter the second number: 15\n",
      "15 is greater than 10.\n"
     ]
    }
   ],
   "source": [
    "# Number Comparison: Task: This program prompts the user to enter two numbers and compares them to determine which one is greater or if they are equal. Sample Output:\n",
    "'''Enter the first number: 10\n",
    "Enter the second number: 15\n",
    "15 is greater than 10.'''\n",
    "\n",
    "num1 = input()\n",
    "print(\"Enter the first number: \" + num1)\n",
    "num2 = input()\n",
    "print(\"Enter the second number: \" + num2)\n",
    "number1 = int(num1)\n",
    "number2 = int(num2)\n",
    "\n",
    "if( number1 > number2):\n",
    "    print(str(number1) + \" is greater than \"+str(number2)+\".\")\n",
    "elif( number1 < number2):\n",
    "    print(str(number2)+ \" is greater than \"+str(number1)+\".\")\n",
    "else:\n",
    "    print(str(number1)+ \" is equal to \"+str(number2)+\".\")"
   ]
  },
  {
   "cell_type": "code",
   "execution_count": 26,
   "id": "f769475a",
   "metadata": {},
   "outputs": [
    {
     "name": "stdout",
     "output_type": "stream",
     "text": [
      "Enter a year: 2024\n",
      "2024 is a leap year.\n"
     ]
    }
   ],
   "source": [
    "# Leap Year Checker: Task: This program prompts the user to enter a year and checks if it's a leap year or not. Sample Output:\n",
    "'''Enter a year: 2024\n",
    "2024 is a leap year.'''\n",
    "\n",
    "year = input()\n",
    "print(\"Enter a year: \" + year)\n",
    "year = int(year)\n",
    "if (year % 4 == 0):\n",
    "    print(str(year) + \" is a leap year.\")\n",
    "else:\n",
    "    print(str(year) + \" is not a leap year.\")"
   ]
  },
  {
   "cell_type": "code",
   "execution_count": 30,
   "id": "ff179e5a",
   "metadata": {},
   "outputs": [
    {
     "name": "stdout",
     "output_type": "stream",
     "text": [
      "Enter a number: -7\n",
      "-7 is a negative number.\n"
     ]
    }
   ],
   "source": [
    "# Number Sign Checker: Task: This program prompts the user to enter a number and determines whether it's positive, negative, or zero. Sample Output:\n",
    "\n",
    "'''Enter a number: -7\n",
    "-7 is a negative number.'''\n",
    "\n",
    "number = input()\n",
    "print(\"Enter a number: \" + number)\n",
    "number = int(number)\n",
    "if (number > 0):\n",
    "    print(str(number) + \" is a positive number.\")\n",
    "elif (number < 0):\n",
    "    print(str(number) + \" is a negative number.\")\n",
    "else:\n",
    "    print(\"The number is zero.\")"
   ]
  },
  {
   "cell_type": "code",
   "execution_count": null,
   "id": "e3436517",
   "metadata": {},
   "outputs": [
    {
     "name": "stdout",
     "output_type": "stream",
     "text": [
      "Enter a charcter: A\n",
      "'A' is a vowel.\n"
     ]
    }
   ],
   "source": [
    "# Vowel Checker: Task: This program prompts the user to enter a character and checks if it's a vowel or a consonant. Sample Output:\n",
    "'''Enter a character: a\n",
    "'a' is a vowel.'''\n",
    "\n",
    "char = input()\n",
    "print(\"Enter a charcter: \"+ char)\n",
    "\n",
    "if (str(char) == \"a\" or str(char) == \"e\" or str(char) == \"i\" or\n",
    "    str(char) == \"o\" or str(char) == \"u\" or str(char) == \"A\" or str(char) == \"E\" or\n",
    "    str(char) == \"I\" or str(char) == \"O\" or str(char) == \"U\"):\n",
    "    print(\"'\" + char + \"' is a vowel.\")\n",
    "else:\n",
    "    print(\"'\" + char + \"' is a consonant.\")\n"
   ]
  },
  {
   "cell_type": "code",
   "execution_count": 16,
   "id": "2a3db6e7",
   "metadata": {},
   "outputs": [
    {
     "name": "stdout",
     "output_type": "stream",
     "text": [
      "Enter your age: 17\n",
      "You are a child.\n"
     ]
    }
   ],
   "source": [
    "# Age Classifier: Task: This program prompts the user to enter their age and classifies them into different age groups. Sample Output:\n",
    "\n",
    "'''Enter your age: 17\n",
    "You are a child.'''\n",
    "\n",
    "age = input()\n",
    "print(\"Enter your age: \" + age)\n",
    "age = int(age)\n",
    "if (age < 18):\n",
    "    print(\"You are a child.\")\n",
    "elif (age < 60):\n",
    "    print(\"You are a teenager.\")\n",
    "else:\n",
    "    print(\"You are an old.\")\n"
   ]
  },
  {
   "cell_type": "code",
   "execution_count": 1,
   "id": "37e64f74",
   "metadata": {},
   "outputs": [
    {
     "name": "stdout",
     "output_type": "stream",
     "text": [
      "Enter a number: 6\n",
      "6 is an even number.\n"
     ]
    }
   ],
   "source": [
    "# Odd or Even Checker: Task: This program prompts the user to enter a number and determines whether it's odd or even. Sample Output:\n",
    "\n",
    "'''Enter a number: 6\n",
    "6 is an even number.'''\n",
    "\n",
    "num = input()\n",
    "print(\"Enter a number: \" + num)\n",
    "num = int(num)\n",
    "if (num % 2 == 0):\n",
    "    print(str(num) + \" is an even number.\")\n",
    "else:\n",
    "    print(str(num) + \" is an odd number.\")"
   ]
  },
  {
   "cell_type": "code",
   "execution_count": 5,
   "id": "8f0e8569",
   "metadata": {},
   "outputs": [
    {
     "name": "stdout",
     "output_type": "stream",
     "text": [
      "Enter the length of side 1: 5\n",
      "Enter the length of side 2: 5\n",
      "Enter the length of side 3: 5\n",
      "This is an equilateral triangle.\n"
     ]
    }
   ],
   "source": [
    "# Triangle Type Classifier: Task: This program prompts the user to enter three sides of a triangle and classifies the triangle based on its type. Sample Output:\n",
    "\n",
    "'''Enter the length of side 1: 5\n",
    "Enter the length of side 2: 5\n",
    "Enter the length of side 3: 5\n",
    "This is an equilateral triangle.'''\n",
    "\n",
    "side1 = input()\n",
    "print(\"Enter the length of side 1: \" + side1)\n",
    "side2 = input()\n",
    "print(\"Enter the length of side 2: \" + side2)\n",
    "side3 = input()\n",
    "print(\"Enter the length of side 3: \" + side3)\n",
    "length1 = int(side1)\n",
    "length2 = int(side2)\n",
    "length3 = int(side3)\n",
    "if (length1 == length2 and length2 == length3):\n",
    "    print(\"This is an equilateral triangle.\")\n",
    "elif (length1 == length2 or length2 == length3 or length1 == length3):\n",
    "    print(\"This is an isosceles triangle.\")\n",
    "else:\n",
    "    print(\"This is a scalene triangle.\")"
   ]
  },
  {
   "cell_type": "code",
   "execution_count": 12,
   "id": "600a4778",
   "metadata": {},
   "outputs": [
    {
     "name": "stdout",
     "output_type": "stream",
     "text": [
      "Enter the current temperature (in Celsius): 25\n",
      "It's warm outside. You can wear a t-shirt.\n"
     ]
    }
   ],
   "source": [
    "# Temperature Adviser: Task: This program prompts the user to enter the current temperature and suggests appropriate clothing based on the temperature range. Sample Output:\n",
    "'''Enter the current temperature (in Celsius): 25\n",
    "It's warm outside. You can wear a t-shirt.'''\n",
    "\n",
    "temp = input()\n",
    "print(\"Enter the current temperature (in Celsius): \" + temp)\n",
    "temperature = int(temp)\n",
    "if (temperature < 0):\n",
    "    print(\"Very Cold !!\")\n",
    "elif (temperature < 20):\n",
    "    print(\"Cold outside. Wear a jacket.\")\n",
    "else:\n",
    "    print(\"It's warm outside. You can wear a t-shirt.\")"
   ]
  },
  {
   "cell_type": "code",
   "execution_count": 14,
   "id": "54136ba5",
   "metadata": {},
   "outputs": [
    {
     "name": "stdout",
     "output_type": "stream",
     "text": [
      "Enter a number: 75\n",
      "The number 75 falls within the range of 1 to 100.\n"
     ]
    }
   ],
   "source": [
    "# Number Range Checker: Task: This program prompts the user to enter a number and checks if it falls within a specified range. Sample Output:\n",
    "\n",
    "'''Enter a number: 75\n",
    "The number 75 falls within the range of 1 to 100.'''\n",
    "\n",
    "number = input()\n",
    "print(\"Enter a number: \" + number)\n",
    "num = int(number)\n",
    "if (num >= 1 and num <= 100):\n",
    "    print(\"The number \" + str(num) + \" falls within the range of 1 to 100.\")\n",
    "else:\n",
    "    print(\"The number \" + str(num) + \" is out of the range of 1 to 100.\")\n"
   ]
  }
 ],
 "metadata": {
  "kernelspec": {
   "display_name": "Python 3",
   "language": "python",
   "name": "python3"
  },
  "language_info": {
   "codemirror_mode": {
    "name": "ipython",
    "version": 3
   },
   "file_extension": ".py",
   "mimetype": "text/x-python",
   "name": "python",
   "nbconvert_exporter": "python",
   "pygments_lexer": "ipython3",
   "version": "3.13.3"
  }
 },
 "nbformat": 4,
 "nbformat_minor": 5
}
