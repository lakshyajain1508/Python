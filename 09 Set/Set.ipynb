{
  "cells": [
    {
      "cell_type": "code",
      "execution_count": 3,
      "metadata": {
        "colab": {
          "base_uri": "https://localhost:8080/"
        },
        "id": "YPqw5WIYT15V",
        "outputId": "c578707d-ad60-4ed0-ac18-f28dd780b399"
      },
      "outputs": [
        {
          "name": "stdout",
          "output_type": "stream",
          "text": [
            "{1, 2, 3, 4, 5, 6}\n",
            "{20.6, 12, 'Orange', 'L'}\n"
          ]
        }
      ],
      "source": [
        "# set of integer\n",
        "\n",
        "int_set = {1,3,6,5,2,4}\n",
        "print(int_set)\n",
        "\n",
        "# set of mixed data types\n",
        "\n",
        "mixed_set = {\"Orange\",12,'L',20.6}\n",
        "print(mixed_set)"
      ]
    },
    {
      "cell_type": "code",
      "execution_count": 6,
      "metadata": {
        "colab": {
          "base_uri": "https://localhost:8080/"
        },
        "id": "tUSBFoKJVPfQ",
        "outputId": "033dd375-f6e1-4b03-f8f8-52aa583f17b3"
      },
      "outputs": [
        {
          "name": "stdout",
          "output_type": "stream",
          "text": [
            "{1, 2, 3}\n",
            "{1, 2, 3, 4, 5, 6}\n"
          ]
        }
      ],
      "source": [
        "#  add and update\n",
        "\n",
        "set = {1,3}\n",
        "set.add(2)\n",
        "print(set)\n",
        "\n",
        "set.update([4,5,6])\n",
        "print(set)"
      ]
    },
    {
      "cell_type": "code",
      "execution_count": 10,
      "metadata": {
        "colab": {
          "base_uri": "https://localhost:8080/"
        },
        "id": "4CwevQRFWABW",
        "outputId": "61fe0831-1a99-45d0-a103-d560f2d8a6bc"
      },
      "outputs": [
        {
          "name": "stdout",
          "output_type": "stream",
          "text": [
            "{1, 2, 4, 5}\n",
            "{1, 2, 4}\n",
            "{1, 2}\n"
          ]
        }
      ],
      "source": [
        "# Remove and Discard\n",
        "\n",
        "set = {1,2,3,4,5}\n",
        "set.remove(3)\n",
        "print(set)\n",
        "\n",
        "set.discard(5)\n",
        "print(set)\n",
        "\n",
        "set.discard(4)\n",
        "print(set)"
      ]
    },
    {
      "cell_type": "code",
      "execution_count": 14,
      "metadata": {
        "colab": {
          "base_uri": "https://localhost:8080/"
        },
        "id": "OhLwDNU9WhHb",
        "outputId": "0f7c5546-aeff-4597-96ef-969c915dc1cc"
      },
      "outputs": [
        {
          "name": "stdout",
          "output_type": "stream",
          "text": [
            "{2, 3, 4, 5, 6}\n",
            "set()\n"
          ]
        }
      ],
      "source": [
        "# set Pop & Clear\n",
        "\n",
        "set = {2,1,3,6,4,5}\n",
        "set.pop()\n",
        "print(set)\n",
        "\n",
        "set.clear()\n",
        "print(set)"
      ]
    },
    {
      "cell_type": "code",
      "execution_count": 16,
      "metadata": {
        "colab": {
          "base_uri": "https://localhost:8080/"
        },
        "id": "ii8LoI9iYBXG",
        "outputId": "aae6c546-be51-4e1d-f929-1b85507189cf"
      },
      "outputs": [
        {
          "name": "stdout",
          "output_type": "stream",
          "text": [
            "{1, 2, 3, 4, 5, 6}\n",
            "{1, 2, 3, 4, 5, 6}\n"
          ]
        }
      ],
      "source": [
        "# Union Set\n",
        "\n",
        "A = {1,2,3,4,5}\n",
        "B = {4,5,6}\n",
        "\n",
        "# Two ways we can print\n",
        "print(A|B)\n",
        "print(A.union(B))"
      ]
    },
    {
      "cell_type": "code",
      "execution_count": 18,
      "metadata": {
        "colab": {
          "base_uri": "https://localhost:8080/"
        },
        "id": "thDKFtv6YMxU",
        "outputId": "8225a14c-6723-4abb-e3ed-14c77668cb95"
      },
      "outputs": [
        {
          "name": "stdout",
          "output_type": "stream",
          "text": [
            "{4, 5}\n",
            "{4, 5}\n"
          ]
        }
      ],
      "source": [
        "# Intersection Set\n",
        "\n",
        "A = {1,2,3,4,5}\n",
        "B = {4,5,6}\n",
        "\n",
        "# Two ways we can print\n",
        "print(A & B)\n",
        "print(A.intersection(B))"
      ]
    },
    {
      "cell_type": "code",
      "execution_count": 20,
      "metadata": {
        "colab": {
          "base_uri": "https://localhost:8080/"
        },
        "id": "5iVZRbPFY9by",
        "outputId": "0cba1618-b17b-4e79-c648-c422ce432d45"
      },
      "outputs": [
        {
          "name": "stdout",
          "output_type": "stream",
          "text": [
            "{1, 2, 3}\n",
            "{1, 2, 3}\n",
            "{6}\n",
            "{6}\n"
          ]
        }
      ],
      "source": [
        "#  Difference Set\n",
        "\n",
        "A = {1,2,3,4,5}\n",
        "B = {4,5,6}\n",
        "\n",
        "print(A-B)\n",
        "print(A.difference(B))\n",
        "print(B-A)\n",
        "print(B.difference(A))"
      ]
    },
    {
      "cell_type": "code",
      "execution_count": 28,
      "metadata": {
        "colab": {
          "base_uri": "https://localhost:8080/"
        },
        "id": "0Fy385HTZVNp",
        "outputId": "5450bfe6-0e8a-4948-d859-8825fd7fd561"
      },
      "outputs": [
        {
          "name": "stdout",
          "output_type": "stream",
          "text": [
            "{6}\n",
            "{6}\n"
          ]
        }
      ],
      "source": [
        "# Symmetric Difference Set\n",
        "\n",
        "A = {1,2,3,4,5}\n",
        "B = {1,2,3,4,5,6}\n",
        "\n",
        "print(A^B)\n",
        "print(A.symmetric_difference(B))"
      ]
    },
    {
      "cell_type": "code",
      "execution_count": 1,
      "metadata": {
        "colab": {
          "base_uri": "https://localhost:8080/"
        },
        "id": "OVnyK1e5Z1Tv",
        "outputId": "ac728d54-ca38-45b5-bc51-58c796b22ce8"
      },
      "outputs": [
        {
          "data": {
            "text/plain": [
              "True"
            ]
          },
          "execution_count": 1,
          "metadata": {},
          "output_type": "execute_result"
        }
      ],
      "source": [
        "'l' in ('apple')"
      ]
    },
    {
      "cell_type": "code",
      "execution_count": 4,
      "metadata": {},
      "outputs": [
        {
          "name": "stdout",
          "output_type": "stream",
          "text": [
            "{'apple', 'cherry', 'orange', 'banana'}\n"
          ]
        }
      ],
      "source": [
        "# add()\n",
        "fruits = {\"apple\", \"banana\", \"cherry\"}\n",
        "fruits.add(\"orange\")\n",
        "print(fruits)"
      ]
    },
    {
      "cell_type": "code",
      "execution_count": 12,
      "metadata": {},
      "outputs": [
        {
          "name": "stdout",
          "output_type": "stream",
          "text": [
            "{'apple', 'orange', 'mango', 'grape', 'banana', 'cherry'}\n"
          ]
        }
      ],
      "source": [
        "# update()\n",
        "fruits.update([\"mango\", \"grape\"])\n",
        "print(fruits)"
      ]
    },
    {
      "cell_type": "code",
      "execution_count": 13,
      "metadata": {},
      "outputs": [
        {
          "name": "stdout",
          "output_type": "stream",
          "text": [
            "{'apple', 'orange', 'grape', 'banana', 'cherry'}\n"
          ]
        }
      ],
      "source": [
        "# remove()\n",
        "fruits.remove(\"mango\")\n",
        "print(fruits)"
      ]
    },
    {
      "cell_type": "code",
      "execution_count": 14,
      "metadata": {},
      "outputs": [
        {
          "name": "stdout",
          "output_type": "stream",
          "text": [
            "{'apple', 'orange', 'banana', 'cherry'}\n"
          ]
        }
      ],
      "source": [
        "# discard()\n",
        "fruits.discard(\"grape\")\n",
        "print(fruits)"
      ]
    },
    {
      "cell_type": "code",
      "execution_count": 15,
      "metadata": {},
      "outputs": [
        {
          "name": "stdout",
          "output_type": "stream",
          "text": [
            "apple\n",
            "{'orange', 'banana', 'cherry'}\n"
          ]
        }
      ],
      "source": [
        "# pop()\n",
        "random_fruit = fruits.pop()\n",
        "print(random_fruit)\n",
        "print(fruits)"
      ]
    },
    {
      "cell_type": "code",
      "execution_count": 16,
      "metadata": {},
      "outputs": [
        {
          "name": "stdout",
          "output_type": "stream",
          "text": [
            "set()\n"
          ]
        }
      ],
      "source": [
        "# clear()\n",
        "fruits.clear()\n",
        "print(fruits)"
      ]
    },
    {
      "cell_type": "code",
      "execution_count": 21,
      "metadata": {},
      "outputs": [
        {
          "name": "stdout",
          "output_type": "stream",
          "text": [
            "{'red', 'green', 'blue'}\n"
          ]
        }
      ],
      "source": [
        "# copy()\n",
        "\n",
        "data = {\"red\", \"blue\", \"green\"}\n",
        "new_data = data.copy()\n",
        "print(new_data)"
      ]
    },
    {
      "cell_type": "code",
      "execution_count": null,
      "metadata": {},
      "outputs": [],
      "source": []
    }
  ],
  "metadata": {
    "colab": {
      "provenance": []
    },
    "kernelspec": {
      "display_name": "Python 3",
      "name": "python3"
    },
    "language_info": {
      "codemirror_mode": {
        "name": "ipython",
        "version": 3
      },
      "file_extension": ".py",
      "mimetype": "text/x-python",
      "name": "python",
      "nbconvert_exporter": "python",
      "pygments_lexer": "ipython3",
      "version": "3.13.4"
    }
  },
  "nbformat": 4,
  "nbformat_minor": 0
}
