{
  "cells": [
    {
      "cell_type": "code",
      "execution_count": null,
      "metadata": {
        "colab": {
          "base_uri": "https://localhost:8080/"
        },
        "id": "Po40ERLrHMPT",
        "outputId": "278f936c-ef70-492a-b957-32322869cce0"
      },
      "outputs": [
        {
          "name": "stdout",
          "output_type": "stream",
          "text": [
            "Sum :  30\n",
            "Sum :  400\n"
          ]
        }
      ],
      "source": [
        "\n",
        "# Sum Function: Write a function named calculate_sum that takes two parameters (a and b) and returns their sum. Call the function with different values and print the results.\n",
        "\n",
        "def Sum (a,b):\n",
        "    return print(\"Sum : \", a + b)\n",
        "\n",
        "\n",
        "Sum(10,20)\n",
        "Sum(100,300)"
      ]
    },
    {
      "cell_type": "code",
      "execution_count": null,
      "metadata": {
        "colab": {
          "base_uri": "https://localhost:8080/"
        },
        "id": "_3tYs6CbIKyH",
        "outputId": "25cd0d73-816d-4789-8fa6-ecd8348147d5"
      },
      "outputs": [
        {
          "name": "stdout",
          "output_type": "stream",
          "text": [
            "Factorial of 5 = 120\n",
            "Factorial of 6 = 720\n"
          ]
        }
      ],
      "source": [
        "# Factorial Function:Write a function named calculate_factorial that takes an integer parameter (n) and returns its factorial. Call the function with different values and print the results.\n",
        "\n",
        "def calculate_factorial(n):\n",
        "  num = int(n)\n",
        "  i = 1\n",
        "  while n > 0:\n",
        "    i = i * n\n",
        "    n = n - 1\n",
        "  return print(\"Factorial of\",num ,\"=\",i)\n",
        "\n",
        "calculate_factorial(5)\n",
        "calculate_factorial(6)\n",
        "\n"
      ]
    },
    {
      "cell_type": "code",
      "execution_count": null,
      "metadata": {
        "colab": {
          "base_uri": "https://localhost:8080/"
        },
        "id": "PpqFQ4DQNTQt",
        "outputId": "84bd798a-c6dc-420e-8971-3ec2d9486d95"
      },
      "outputs": [
        {
          "name": "stdout",
          "output_type": "stream",
          "text": [
            "20 is even.\n",
            "31 is odd.\n",
            "32 is even.\n",
            "41 is odd.\n"
          ]
        }
      ],
      "source": [
        "'''Even/Odd Checker Function:\n",
        "Write a function named is_even that takes an integer as a parameter and returns True if it's even and False otherwise.\n",
        "Call the function with different values and print the results.'''\n",
        "\n",
        "def is_even(n):\n",
        "  while True:\n",
        "    if(n%2 == 0):\n",
        "      return print(n,\"is even.\")\n",
        "      break;\n",
        "    else:\n",
        "      return print(n, \"is odd.\")\n",
        "      continue;\n",
        "\n",
        "\n",
        "is_even(20)\n",
        "is_even(31)\n",
        "is_even(32)\n",
        "is_even(41)"
      ]
    },
    {
      "cell_type": "code",
      "execution_count": 143,
      "metadata": {
        "colab": {
          "base_uri": "https://localhost:8080/"
        },
        "id": "GIShXtCExm1I",
        "outputId": "c9eaf31b-25fd-4cc6-ff0e-becfb96840c3"
      },
      "outputs": [
        {
          "name": "stdout",
          "output_type": "stream",
          "text": [
            "orange\n",
            "red\n",
            "purple\n",
            "blue\n",
            "green\n",
            "yellow\n"
          ]
        }
      ],
      "source": [
        "'''List Operations:\n",
        "Create a list of your favorite colors.\n",
        "Write a function named print_colors that takes a list as a parameter and prints each color on a new line.\n",
        "Call the function with your list.'''\n",
        "\n",
        "def print_colors(colors):\n",
        "\n",
        "  for colours in colors:\n",
        "      print(colours)\n",
        "\n",
        "colours = [\"orange\",\"red\",\"purple\",\"blue\",\"green\",\"yellow\"]\n",
        "print_colors(colours)"
      ]
    },
    {
      "cell_type": "code",
      "execution_count": 154,
      "metadata": {
        "colab": {
          "base_uri": "https://localhost:8080/"
        },
        "id": "gnfaz0eazC7c",
        "outputId": "a2d72b10-6045-4ec5-f012-c6e5a7b97ab1"
      },
      "outputs": [
        {
          "name": "stdout",
          "output_type": "stream",
          "text": [
            "Number = Square of this numbers\n",
            "1 = 1\n",
            "2 = 4\n",
            "3 = 9\n",
            "4 = 16\n",
            "5 = 25\n",
            "6 = 36\n",
            "7 = 49\n",
            "8 = 64\n",
            "9 = 81\n",
            "10 = 100\n"
          ]
        }
      ],
      "source": [
        "'''List Manipulation:\n",
        "Create a list of numbers.\n",
        "Write a function named square_numbers that takes a list as a parameter and returns a new list containing the squares of each number.\n",
        "Call the function with your list and print the results.'''\n",
        "\n",
        "\n",
        "def square_numbers(number):\n",
        "  print(\"Number = Square of this numbers\")\n",
        "  for number1 in number:\n",
        "    square = number1 * number1\n",
        "    print(number1 ,\"=\",square)\n",
        "number1 = [1,2,3,4,5,6,7,8,9,10]\n",
        "square_numbers(number1)"
      ]
    },
    {
      "cell_type": "code",
      "execution_count": 162,
      "metadata": {
        "colab": {
          "base_uri": "https://localhost:8080/"
        },
        "id": "XtPxlHDb0mg7",
        "outputId": "1bbd9098-1848-451d-e2fa-bd8aa413e785"
      },
      "outputs": [
        {
          "name": "stdout",
          "output_type": "stream",
          "text": [
            "Sorted List =  [1, 2, 3, 4, 5, 6, 7, 8, 9]\n"
          ]
        }
      ],
      "source": [
        "'''List Sorting:\n",
        "Create a list of random numbers.\n",
        "Write a function named sort_numbers that takes a list as a parameter and returns a new list with the numbers sorted in ascending order.\n",
        "Call the function with your list and print the results.'''\n",
        "\n",
        "def sort_numbers(num):\n",
        "  num = [1,6,7,3,8,4,5,2,9]\n",
        "  num.sort()\n",
        "  return print(\"Sorted List = \",num)\n",
        "\n",
        "sort_numbers(num)"
      ]
    },
    {
      "cell_type": "code",
      "execution_count": null,
      "metadata": {
        "colab": {
          "base_uri": "https://localhost:8080/"
        },
        "id": "7sl6u-mlQ7f_",
        "outputId": "c60377f3-6a86-4663-9587-5a39dbfcbf35"
      },
      "outputs": [
        {
          "name": "stdout",
          "output_type": "stream",
          "text": [
            "Python\n",
            "Product Name 1 = Python\n",
            "java\n",
            "Product Name 2 = java\n",
            "1500\n",
            "Price Of Product 1 = 1500\n",
            "1500\n",
            "Price Of Product 2 = 1500\n",
            "Do you want GST (Y/N)n\n",
            "GST = n\n",
            "1 Product Python Price = 1500\n",
            "2 Product java Price = 1500\n",
            "Total (Without GST) = 3000\n"
          ]
        }
      ],
      "source": [
        "\n",
        "\n",
        "def bill(num_product, num_price):\n",
        "\n",
        "    products = []\n",
        "    prices = []\n",
        "\n",
        "    for i in range(int(num_product)):\n",
        "        product = input()\n",
        "        products.append(product)\n",
        "        print(\"Product Name\", i+1, \"=\", product)\n",
        "\n",
        "    for i in range(int(num_price)):\n",
        "        price = input()\n",
        "        prices.append(int(price))\n",
        "        print(\"Price Of Product\", i+1, \"=\", price)\n",
        "\n",
        "    yes = input(\"Do you want GST (Y/N)\")\n",
        "    print(\"GST =\", yes)\n",
        "    if(yes == 'y' or yes == 'Y'):\n",
        "      GST = input()\n",
        "      GST = float(GST)\n",
        "      total = 0\n",
        "      for i in range(int(num_price)):\n",
        "        total += prices[i]\n",
        "        print(i+1, \"Product\", products[i], \"Price =\", prices[i])\n",
        "      gst = total * GST / 100\n",
        "      MRP = total + gst\n",
        "      print(\"GST =\", GST, \"%\")\n",
        "      print(\"GST Amount =\", gst)\n",
        "      print(\"Total (With GST) =\", MRP)\n",
        "    else:\n",
        "      total = 0\n",
        "      for i in range(int(num_price)):\n",
        "        total += prices[i]\n",
        "        print(i+1, \"Product\", products[i], \"Price =\", prices[i])\n",
        "      print(\"Total (Without GST) =\", total)\n",
        "\n",
        "bill(2,2)\n",
        "\n"
      ]
    }
  ],
  "metadata": {
    "colab": {
      "provenance": []
    },
    "kernelspec": {
      "display_name": "Python 3",
      "name": "python3"
    },
    "language_info": {
      "name": "python"
    }
  },
  "nbformat": 4,
  "nbformat_minor": 0
}
