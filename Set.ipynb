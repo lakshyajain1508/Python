{
  "nbformat": 4,
  "nbformat_minor": 0,
  "metadata": {
    "colab": {
      "provenance": []
    },
    "kernelspec": {
      "name": "python3",
      "display_name": "Python 3"
    },
    "language_info": {
      "name": "python"
    }
  },
  "cells": [
    {
      "cell_type": "code",
      "execution_count": 3,
      "metadata": {
        "colab": {
          "base_uri": "https://localhost:8080/"
        },
        "id": "YPqw5WIYT15V",
        "outputId": "c578707d-ad60-4ed0-ac18-f28dd780b399"
      },
      "outputs": [
        {
          "output_type": "stream",
          "name": "stdout",
          "text": [
            "{1, 2, 3, 4, 5, 6}\n",
            "{20.6, 12, 'Orange', 'L'}\n"
          ]
        }
      ],
      "source": [
        "# set of integer\n",
        "\n",
        "int_set = {1,3,6,5,2,4}\n",
        "print(int_set)\n",
        "\n",
        "# set of mixed data types\n",
        "\n",
        "mixed_set = {\"Orange\",12,'L',20.6}\n",
        "print(mixed_set)"
      ]
    },
    {
      "cell_type": "code",
      "source": [
        "#  add and update\n",
        "\n",
        "set = {1,3}\n",
        "set.add(2)\n",
        "print(set)\n",
        "\n",
        "set.update([4,5,6])\n",
        "print(set)"
      ],
      "metadata": {
        "colab": {
          "base_uri": "https://localhost:8080/"
        },
        "id": "tUSBFoKJVPfQ",
        "outputId": "033dd375-f6e1-4b03-f8f8-52aa583f17b3"
      },
      "execution_count": 6,
      "outputs": [
        {
          "output_type": "stream",
          "name": "stdout",
          "text": [
            "{1, 2, 3}\n",
            "{1, 2, 3, 4, 5, 6}\n"
          ]
        }
      ]
    },
    {
      "cell_type": "code",
      "source": [
        "# Remove and Discard\n",
        "\n",
        "set = {1,2,3,4,5}\n",
        "set.remove(3)\n",
        "print(set)\n",
        "\n",
        "set.discard(5)\n",
        "print(set)\n",
        "\n",
        "set.discard(4)\n",
        "print(set)"
      ],
      "metadata": {
        "colab": {
          "base_uri": "https://localhost:8080/"
        },
        "id": "4CwevQRFWABW",
        "outputId": "61fe0831-1a99-45d0-a103-d560f2d8a6bc"
      },
      "execution_count": 10,
      "outputs": [
        {
          "output_type": "stream",
          "name": "stdout",
          "text": [
            "{1, 2, 4, 5}\n",
            "{1, 2, 4}\n",
            "{1, 2}\n"
          ]
        }
      ]
    },
    {
      "cell_type": "code",
      "source": [
        "# set Pop & Clear\n",
        "\n",
        "set = {2,1,3,6,4,5}\n",
        "set.pop()\n",
        "print(set)\n",
        "\n",
        "set.clear()\n",
        "print(set)"
      ],
      "metadata": {
        "colab": {
          "base_uri": "https://localhost:8080/"
        },
        "id": "OhLwDNU9WhHb",
        "outputId": "0f7c5546-aeff-4597-96ef-969c915dc1cc"
      },
      "execution_count": 14,
      "outputs": [
        {
          "output_type": "stream",
          "name": "stdout",
          "text": [
            "{2, 3, 4, 5, 6}\n",
            "set()\n"
          ]
        }
      ]
    },
    {
      "cell_type": "code",
      "source": [
        "# Union Set\n",
        "\n",
        "A = {1,2,3,4,5}\n",
        "B = {4,5,6}\n",
        "\n",
        "# Two ways we can print\n",
        "print(A|B)\n",
        "print(A.union(B))"
      ],
      "metadata": {
        "colab": {
          "base_uri": "https://localhost:8080/"
        },
        "id": "ii8LoI9iYBXG",
        "outputId": "aae6c546-be51-4e1d-f929-1b85507189cf"
      },
      "execution_count": 16,
      "outputs": [
        {
          "output_type": "stream",
          "name": "stdout",
          "text": [
            "{1, 2, 3, 4, 5, 6}\n",
            "{1, 2, 3, 4, 5, 6}\n"
          ]
        }
      ]
    },
    {
      "cell_type": "code",
      "source": [
        "# Intersection Set\n",
        "\n",
        "A = {1,2,3,4,5}\n",
        "B = {4,5,6}\n",
        "\n",
        "# Two ways we can print\n",
        "print(A & B)\n",
        "print(A.intersection(B))"
      ],
      "metadata": {
        "colab": {
          "base_uri": "https://localhost:8080/"
        },
        "id": "thDKFtv6YMxU",
        "outputId": "8225a14c-6723-4abb-e3ed-14c77668cb95"
      },
      "execution_count": 18,
      "outputs": [
        {
          "output_type": "stream",
          "name": "stdout",
          "text": [
            "{4, 5}\n",
            "{4, 5}\n"
          ]
        }
      ]
    },
    {
      "cell_type": "code",
      "source": [
        "#  Difference Set\n",
        "\n",
        "A = {1,2,3,4,5}\n",
        "B = {4,5,6}\n",
        "\n",
        "print(A-B)\n",
        "print(A.difference(B))\n",
        "print(B-A)\n",
        "print(B.difference(A))"
      ],
      "metadata": {
        "colab": {
          "base_uri": "https://localhost:8080/"
        },
        "id": "5iVZRbPFY9by",
        "outputId": "0cba1618-b17b-4e79-c648-c422ce432d45"
      },
      "execution_count": 20,
      "outputs": [
        {
          "output_type": "stream",
          "name": "stdout",
          "text": [
            "{1, 2, 3}\n",
            "{1, 2, 3}\n",
            "{6}\n",
            "{6}\n"
          ]
        }
      ]
    },
    {
      "cell_type": "code",
      "source": [
        "# Symmetric Difference Set\n",
        "\n",
        "A = {1,2,3,4,5}\n",
        "B = {1,2,3,4,5,6}\n",
        "\n",
        "print(A^B)\n",
        "print(A.symmetric_difference(B))"
      ],
      "metadata": {
        "colab": {
          "base_uri": "https://localhost:8080/"
        },
        "id": "0Fy385HTZVNp",
        "outputId": "5450bfe6-0e8a-4948-d859-8825fd7fd561"
      },
      "execution_count": 28,
      "outputs": [
        {
          "output_type": "stream",
          "name": "stdout",
          "text": [
            "{6}\n",
            "{6}\n"
          ]
        }
      ]
    },
    {
      "cell_type": "code",
      "source": [
        "'l' in ('apple')\n"
      ],
      "metadata": {
        "colab": {
          "base_uri": "https://localhost:8080/"
        },
        "id": "OVnyK1e5Z1Tv",
        "outputId": "ac728d54-ca38-45b5-bc51-58c796b22ce8"
      },
      "execution_count": 47,
      "outputs": [
        {
          "output_type": "execute_result",
          "data": {
            "text/plain": [
              "True"
            ]
          },
          "metadata": {},
          "execution_count": 47
        }
      ]
    }
  ]
}