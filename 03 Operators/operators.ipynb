{
 "cells": [
  {
   "cell_type": "code",
   "execution_count": 7,
   "id": "cce9777a",
   "metadata": {},
   "outputs": [
    {
     "name": "stdout",
     "output_type": "stream",
     "text": [
      "Number 1 -  20\n",
      "Number 2 -  5\n",
      "Addition : 25\n",
      "Subtraction : 15\n",
      "Multiplication : 100\n",
      "Division : 4.0\n",
      "Modulus : 0\n"
     ]
    }
   ],
   "source": [
    "# Arithmetic operators\n",
    "\n",
    "num1 = int(input(\"Enter the first number = \"))\n",
    "num2 = int(input(\"Enter the second number = \"))\n",
    "print(\"Number 1 - \",num1)\n",
    "print(\"Number 2 - \",num2)\n",
    "add = num1+num2\n",
    "print(\"Addition :\",add)\n",
    "\n",
    "sub = num1-num2\n",
    "print(\"Subtraction :\",sub)\n",
    "\n",
    "mul = num1*num2\n",
    "print(\"Multiplication :\",mul)\n",
    "\n",
    "div = num1/num2\n",
    "print(\"Division :\",div)\n",
    "\n",
    "mod = num1%num2\n",
    "print(\"Modulus :\",mod)"
   ]
  },
  {
   "cell_type": "code",
   "execution_count": null,
   "id": "115fef92",
   "metadata": {},
   "outputs": [
    {
     "name": "stdout",
     "output_type": "stream",
     "text": [
      "Number 1 -  500\n",
      "Number 2 -  40\n",
      "False\n",
      "True\n",
      "False\n",
      "True\n",
      "False\n",
      "True\n"
     ]
    }
   ],
   "source": [
    "# Comparsion operators\n",
    "\n",
    "num1 = 500\n",
    "num2 = 40\n",
    "print(\"Number 1 - \",num1)\n",
    "print(\"Number 2 - \",num2)\n",
    "\n",
    "print(num1<num2)\n",
    "print(num1>num2)\n",
    "print(num1<=num2)\n",
    "print(num1>=num2)\n",
    "print(num1==num2)\n",
    "print(num1!=num2)\n"
   ]
  },
  {
   "cell_type": "code",
   "execution_count": 12,
   "id": "0e4b0a0a",
   "metadata": {},
   "outputs": [
    {
     "name": "stdout",
     "output_type": "stream",
     "text": [
      "False\n",
      "True\n",
      "False\n"
     ]
    }
   ],
   "source": [
    "# Logical operators\n",
    "\n",
    "a = True\n",
    "b = False\n",
    "\n",
    "# Logical AND\n",
    "result = a and b\n",
    "print(result)  # Output: False\n",
    "\n",
    "# Logical OR\n",
    "result = a or b\n",
    "print(result)  # Output: True\n",
    "\n",
    "# Logical NOT\n",
    "result = not a\n",
    "print(result)  # Output: False"
   ]
  }
 ],
 "metadata": {
  "kernelspec": {
   "display_name": "Python 3",
   "language": "python",
   "name": "python3"
  },
  "language_info": {
   "codemirror_mode": {
    "name": "ipython",
    "version": 3
   },
   "file_extension": ".py",
   "mimetype": "text/x-python",
   "name": "python",
   "nbconvert_exporter": "python",
   "pygments_lexer": "ipython3",
   "version": "3.13.4"
  }
 },
 "nbformat": 4,
 "nbformat_minor": 5
}
