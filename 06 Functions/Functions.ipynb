{
 "cells": [
  {
   "cell_type": "code",
   "execution_count": 1,
   "id": "c221dda6",
   "metadata": {},
   "outputs": [],
   "source": [
    "# Example \n",
    "\n",
    "def info():\n",
    "    print(\"Hello, Lakshya!\")\n",
    "    print(\"This is an example\")\n",
    "    "
   ]
  },
  {
   "cell_type": "code",
   "execution_count": 2,
   "id": "5281536d",
   "metadata": {},
   "outputs": [
    {
     "name": "stdout",
     "output_type": "stream",
     "text": [
      "Hello, Lakshya!\n",
      "This is an example\n"
     ]
    }
   ],
   "source": [
    "# calling a function\n",
    "\n",
    "info()"
   ]
  },
  {
   "cell_type": "markdown",
   "id": "219742e8",
   "metadata": {},
   "source": [
    "## Types of function"
   ]
  },
  {
   "cell_type": "code",
   "execution_count": 3,
   "id": "e92b8d8a",
   "metadata": {},
   "outputs": [],
   "source": [
    "# 1. Basic Function\n",
    "\n",
    "def add():\n",
    "    a = 10\n",
    "    b = 20\n",
    "    c = a + b\n",
    "    print(\"Sum Of a and b is\",c)    "
   ]
  },
  {
   "cell_type": "code",
   "execution_count": 4,
   "id": "1e0e4635",
   "metadata": {},
   "outputs": [
    {
     "name": "stdout",
     "output_type": "stream",
     "text": [
      "Sum Of a and b is 30\n"
     ]
    }
   ],
   "source": [
    "add()"
   ]
  },
  {
   "cell_type": "code",
   "execution_count": null,
   "id": "a0c55dda",
   "metadata": {},
   "outputs": [
    {
     "name": "stdout",
     "output_type": "stream",
     "text": [
      "sum of a and b is  15\n",
      "sum of a and b is  50\n"
     ]
    }
   ],
   "source": [
    "# 2. Function with parameters\n",
    "\n",
    "'''def functionName(parameter)\n",
    "    code to be executed\n",
    "    output\n",
    "'''\n",
    "\n",
    "def add(a, b): # parameters\n",
    "    c = a + b\n",
    "    print(\"sum of a and b is \", c)  \n",
    "\n",
    "add(5, 10)\n",
    "add(20, 30)"
   ]
  },
  {
   "cell_type": "code",
   "execution_count": 10,
   "id": "b7e4d21c",
   "metadata": {},
   "outputs": [
    {
     "name": "stdout",
     "output_type": "stream",
     "text": [
      "sum of a and b is  15\n"
     ]
    }
   ],
   "source": [
    "# 3. Returning values from function\n",
    "\n",
    "def get_number():\n",
    "    a = 5\n",
    "    b = 10\n",
    "    c = a + b\n",
    "    return c\n",
    "\n",
    "number = get_number()\n",
    "print(\"sum of a and b is \", number)"
   ]
  },
  {
   "cell_type": "code",
   "execution_count": 12,
   "id": "f3a0703b",
   "metadata": {},
   "outputs": [
    {
     "name": "stdout",
     "output_type": "stream",
     "text": [
      "sum of a and b is  15\n"
     ]
    }
   ],
   "source": [
    "# 4. With parameters and return value\n",
    "\n",
    "def get_number(a, b):\n",
    "    c = a + b\n",
    "    return c\n",
    "\n",
    "number = get_number(5, 10)\n",
    "print(\"sum of a and b is \", number)"
   ]
  },
  {
   "cell_type": "markdown",
   "id": "4b1417b2",
   "metadata": {},
   "source": [
    "## Built-in Functions"
   ]
  },
  {
   "cell_type": "code",
   "execution_count": 15,
   "id": "5d6fc957",
   "metadata": {},
   "outputs": [
    {
     "name": "stdout",
     "output_type": "stream",
     "text": [
      "5\n",
      "5\n",
      "1\n",
      "15\n",
      "[5, 4, 3, 2, 1]\n",
      "10\n"
     ]
    }
   ],
   "source": [
    "# Using built-in functions\n",
    "numbers = [1, 2, 3, 4, 5]\n",
    "\n",
    "print(len(numbers))  # Output: 5\n",
    "print(max(numbers))  # Output: 5\n",
    "print(min(numbers))  # Output: 1\n",
    "print(sum(numbers))  # Output: 15\n",
    "print(sorted(numbers, reverse=True))  # Output: [5, 4, 3, 2, 1]\n",
    "print(abs(-10))  # Output: 10"
   ]
  },
  {
   "cell_type": "code",
   "execution_count": 16,
   "id": "7b4bf27b",
   "metadata": {},
   "outputs": [
    {
     "name": "stdout",
     "output_type": "stream",
     "text": [
      "Hello World!\n"
     ]
    }
   ],
   "source": [
    "print(\"Hello World!\") # print function"
   ]
  }
 ],
 "metadata": {
  "kernelspec": {
   "display_name": "Python 3",
   "language": "python",
   "name": "python3"
  },
  "language_info": {
   "codemirror_mode": {
    "name": "ipython",
    "version": 3
   },
   "file_extension": ".py",
   "mimetype": "text/x-python",
   "name": "python",
   "nbconvert_exporter": "python",
   "pygments_lexer": "ipython3",
   "version": "3.13.4"
  }
 },
 "nbformat": 4,
 "nbformat_minor": 5
}
