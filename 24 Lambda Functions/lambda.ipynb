{
 "cells": [
  {
   "cell_type": "code",
   "execution_count": 3,
   "id": "ec23b620",
   "metadata": {},
   "outputs": [
    {
     "name": "stdout",
     "output_type": "stream",
     "text": [
      "8\n"
     ]
    }
   ],
   "source": [
    "add = lambda a, b: a + b\n",
    "print(add(5, 3))"
   ]
  },
  {
   "cell_type": "code",
   "execution_count": 4,
   "id": "671fa90a",
   "metadata": {},
   "outputs": [
    {
     "name": "stdout",
     "output_type": "stream",
     "text": [
      "49\n"
     ]
    }
   ],
   "source": [
    "square = lambda x: x * x\n",
    "print(square(7))"
   ]
  },
  {
   "cell_type": "code",
   "execution_count": null,
   "id": "c8be86f8",
   "metadata": {},
   "outputs": [
    {
     "name": "stdout",
     "output_type": "stream",
     "text": [
      "[19, 20, 25, 30]\n"
     ]
    }
   ],
   "source": [
    "# Filter()\n",
    "ages = [12, 19, 20, 16, 25, 30]\n",
    "\n",
    "# Filter out ages less than 18\n",
    "adults = list(filter(lambda age: age >= 18, ages))\n",
    "print(adults)"
   ]
  },
  {
   "cell_type": "code",
   "execution_count": null,
   "id": "3a18c1e8",
   "metadata": {},
   "outputs": [
    {
     "name": "stdout",
     "output_type": "stream",
     "text": [
      "[2, 4, 6, 8]\n"
     ]
    }
   ],
   "source": [
    "# Map()\n",
    "numbers = [1, 2, 3, 4]\n",
    "\n",
    "# Double all the numbers\n",
    "doubled = list(map(lambda x: x * 2, numbers))\n",
    "print(doubled)"
   ]
  },
  {
   "cell_type": "code",
   "execution_count": 8,
   "id": "b8842942",
   "metadata": {},
   "outputs": [
    {
     "name": "stdout",
     "output_type": "stream",
     "text": [
      "[('Charlie', 78), ('Alice', 85), ('Bob', 92)]\n"
     ]
    }
   ],
   "source": [
    "# Sorted()\n",
    "students = [('Alice', 85), ('Bob', 92), ('Charlie', 78)]\n",
    "\n",
    "# Sort the list of tuples based on the second element (the score)\n",
    "sorted_students = sorted(students, key=lambda item: item[1])\n",
    "print(sorted_students) # Output: [('Charlie', 78), ('Alice', 85), ('Bob', 92)]"
   ]
  },
  {
   "cell_type": "code",
   "execution_count": 15,
   "id": "2a06d4bd",
   "metadata": {},
   "outputs": [
    {
     "name": "stdout",
     "output_type": "stream",
     "text": [
      "10 is Even.\n"
     ]
    }
   ],
   "source": [
    "# Ternary Operator\n",
    "num = int(input(\"Enter a number: \"))\n",
    "check_even = lambda x: \"Even\" if x % 2 == 0 else \"Odd\"\n",
    "print(f\"{num} is {check_even(num)}.\")"
   ]
  },
  {
   "cell_type": "code",
   "execution_count": 29,
   "id": "2e900662",
   "metadata": {},
   "outputs": [
    {
     "name": "stdout",
     "output_type": "stream",
     "text": [
      "5 ^ 2 = 25\n"
     ]
    }
   ],
   "source": [
    "# Default Arguments\n",
    "num = int(input(\"Enter a number to be raised to the power: \"))\n",
    "pow = int(input(\"Enter the power value (default is 2): \") or 2)\n",
    "power = lambda x, y=2: x ** y\n",
    "print(f\"{num} ^ {pow} = {power(num, pow)}\")"
   ]
  }
 ],
 "metadata": {
  "kernelspec": {
   "display_name": "Python 3",
   "language": "python",
   "name": "python3"
  },
  "language_info": {
   "codemirror_mode": {
    "name": "ipython",
    "version": 3
   },
   "file_extension": ".py",
   "mimetype": "text/x-python",
   "name": "python",
   "nbconvert_exporter": "python",
   "pygments_lexer": "ipython3",
   "version": "3.13.4"
  }
 },
 "nbformat": 4,
 "nbformat_minor": 5
}
