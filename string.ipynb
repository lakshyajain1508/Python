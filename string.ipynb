{
 "cells": [
  {
   "cell_type": "code",
   "execution_count": 2,
   "id": "ad075477",
   "metadata": {},
   "outputs": [
    {
     "name": "stdout",
     "output_type": "stream",
     "text": [
      "Lakshya Jain\n",
      "<class 'str'>\n"
     ]
    }
   ],
   "source": [
    "# string \n",
    "\n",
    "data = \"Lakshya Jain\"\n",
    "print(data)\n",
    "print(type(data))"
   ]
  },
  {
   "cell_type": "code",
   "execution_count": 10,
   "id": "0ef77ff0",
   "metadata": {},
   "outputs": [
    {
     "name": "stdout",
     "output_type": "stream",
     "text": [
      "My name is Lakshya and my age is 19 .\n",
      "My name is Lakshya and my age is 19.\n",
      "My name is Lakshya and my name is 19.\n"
     ]
    }
   ],
   "source": [
    "# format\n",
    "\n",
    "name = \"Lakshya\"\n",
    "age = 19\n",
    "print(\"My name is\",name,\"and my age is\",age,\".\")\n",
    "print(\"My name is {} and my age is {}.\".format(name, age))\n",
    "print(f'My name is {name} and my name is {age}.')"
   ]
  },
  {
   "cell_type": "code",
   "execution_count": 19,
   "id": "8bb01afd",
   "metadata": {},
   "outputs": [
    {
     "name": "stdout",
     "output_type": "stream",
     "text": [
      "w\n",
      "w\n",
      "w\n",
      "w\n",
      ".\n",
      "l\n",
      "a\n",
      "k\n",
      "s\n",
      "h\n",
      "y\n",
      "a\n",
      "j\n",
      "a\n",
      "i\n",
      "n\n",
      "1\n",
      "5\n",
      "0\n",
      "8\n",
      ".\n",
      "c\n",
      "o\n",
      "m\n"
     ]
    }
   ],
   "source": [
    "# iterating through string\n",
    "data = \"wwww.lakshyajain1508.com\"\n",
    "for i in data:\n",
    "    print(i)\n",
    "\n"
   ]
  },
  {
   "cell_type": "code",
   "execution_count": 28,
   "id": "8c79beba",
   "metadata": {},
   "outputs": [
    {
     "name": "stdout",
     "output_type": "stream",
     "text": [
      "Lakshya Jain\n",
      "Hello, Lakshya Jain\n"
     ]
    }
   ],
   "source": [
    "# compare more than one string\n",
    "data1 = \"Lakshya\"\n",
    "data2 = \"Jain\"\n",
    "\n",
    "data3 = data1 +\" \"+  data2\n",
    "print(data3)\n",
    "\n",
    "data4 = \"Hello\"\n",
    "print(data4+\", \"+data3)"
   ]
  },
  {
   "cell_type": "code",
   "execution_count": 69,
   "id": "6f922c62",
   "metadata": {},
   "outputs": [],
   "source": [
    "data = \"www.lakshyajain1508.com\"\t"
   ]
  },
  {
   "cell_type": "code",
   "execution_count": 44,
   "id": "450ac90e",
   "metadata": {},
   "outputs": [
    {
     "name": "stdout",
     "output_type": "stream",
     "text": [
      "Upper: WWW.LAKSHYAJAIN1508.COM\n"
     ]
    }
   ],
   "source": [
    "# 1. upper() converts the string to uppercase\n",
    "print(\"Upper: \"+data.upper())"
   ]
  },
  {
   "cell_type": "code",
   "execution_count": 45,
   "id": "18d740b8",
   "metadata": {},
   "outputs": [
    {
     "name": "stdout",
     "output_type": "stream",
     "text": [
      "Lower: www.lakshyajain1508.com\n"
     ]
    }
   ],
   "source": [
    "# 2. lower() converts the string to lowercase\n",
    "print(\"Lower: \"+data.lower())"
   ]
  },
  {
   "cell_type": "code",
   "execution_count": 46,
   "id": "55d14e0c",
   "metadata": {},
   "outputs": [
    {
     "name": "stdout",
     "output_type": "stream",
     "text": [
      "Partition : \n",
      "('www.lakshyajain1508.', 'com', '')\n"
     ]
    }
   ],
   "source": [
    "# 3. partition() returns a tuple\n",
    "print(\"Partition : \")\n",
    "print(data.partition(\"com\"))"
   ]
  },
  {
   "cell_type": "code",
   "execution_count": 47,
   "id": "ec3b333d",
   "metadata": {},
   "outputs": [
    {
     "name": "stdout",
     "output_type": "stream",
     "text": [
      "Result:\n",
      "Old data: www.lakshyajain1508.com\n",
      "New data: https//.lakshyajain1508.com\n"
     ]
    }
   ],
   "source": [
    "# 4. replace() replaces substring inside\n",
    "print(\"Result:\")\n",
    "print(\"Old data: \"+data)\n",
    "print(\"New data: \"+data.replace(\"www\",\"https//\"))"
   ]
  },
  {
   "cell_type": "code",
   "execution_count": 68,
   "id": "87305b68",
   "metadata": {},
   "outputs": [
    {
     "name": "stdout",
     "output_type": "stream",
     "text": [
      "Find:\n",
      "Index: 0\n"
     ]
    }
   ],
   "source": [
    "# 5. find() returns the index of first occurrence of substring\n",
    "\n",
    "data = \"Lakshya\"\n",
    "print(\"Find:\")\n",
    "print(\"Index:\", data.find(\"L\"))"
   ]
  },
  {
   "cell_type": "code",
   "execution_count": 73,
   "id": "10608cff",
   "metadata": {},
   "outputs": [
    {
     "name": "stdout",
     "output_type": "stream",
     "text": [
      "rstrip: www.lakshyajain1508.com\n"
     ]
    }
   ],
   "source": [
    "# 6. rstrip() removes trailing characters\n",
    "data = \"www.lakshyajain1508.com   \"\n",
    "print(\"rstrip:\", data.rstrip())"
   ]
  },
  {
   "cell_type": "code",
   "execution_count": null,
   "id": "809fcab0",
   "metadata": {},
   "outputs": [
    {
     "name": "stdout",
     "output_type": "stream",
     "text": [
      "Split:\n",
      "['', 'akshya']\n"
     ]
    }
   ],
   "source": [
    "# 7. split() splits string from left\n",
    "data = \"Lakshya\"\n",
    "print(\"Split:\")\n",
    "print(data.split(\"L\"))"
   ]
  },
  {
   "cell_type": "code",
   "execution_count": null,
   "id": "5dc66777",
   "metadata": {},
   "outputs": [
    {
     "name": "stdout",
     "output_type": "stream",
     "text": [
      "Starts with 'www': True\n"
     ]
    }
   ],
   "source": [
    "# 8. startswith() checks if string starts with the specified string\n",
    "data = \"www.lakshyajain1508.com\"\n",
    "print(\"Starts with 'www':\", data.startswith(\"www\"))"
   ]
  },
  {
   "cell_type": "code",
   "execution_count": null,
   "id": "5f3a8656",
   "metadata": {},
   "outputs": [
    {
     "name": "stdout",
     "output_type": "stream",
     "text": [
      "Is numeric: True\n",
      "Is numeric: True\n"
     ]
    }
   ],
   "source": [
    "# 9. isnumeric() checks numeric characters\n",
    "data = \"54321\"\n",
    "web = \"1508\"\n",
    "print(\"Is numeric:\", data.isnumeric())\n",
    "print(\"Is numeric:\", web.isnumeric())"
   ]
  },
  {
   "cell_type": "code",
   "execution_count": 88,
   "id": "84f3902a",
   "metadata": {},
   "outputs": [
    {
     "name": "stdout",
     "output_type": "stream",
     "text": [
      "Index of 'Jain': 18\n"
     ]
    }
   ],
   "source": [
    "# 10. index() returns index of substring\\\n",
    "\n",
    "data = \"www.lakshyajain1508.com\"\n",
    "print(\"Index of 'Jain':\", data.index(\"8\"))\n"
   ]
  }
 ],
 "metadata": {
  "kernelspec": {
   "display_name": "Python 3",
   "language": "python",
   "name": "python3"
  },
  "language_info": {
   "codemirror_mode": {
    "name": "ipython",
    "version": 3
   },
   "file_extension": ".py",
   "mimetype": "text/x-python",
   "name": "python",
   "nbconvert_exporter": "python",
   "pygments_lexer": "ipython3",
   "version": "3.13.3"
  }
 },
 "nbformat": 4,
 "nbformat_minor": 5
}
