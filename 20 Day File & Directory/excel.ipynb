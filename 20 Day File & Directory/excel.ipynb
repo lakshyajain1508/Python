{
 "cells": [
  {
   "cell_type": "code",
   "execution_count": 2,
   "id": "5f2ce599",
   "metadata": {},
   "outputs": [
    {
     "name": "stdout",
     "output_type": "stream",
     "text": [
      "('Name', 'Age', 'Country', 'Job ID')\n",
      "('Avaneet', 28, 'USA', 101)\n",
      "('Rugwed', 35, 'Canada', 102)\n",
      "('Pratik', 22, 'UK', 103)\n"
     ]
    }
   ],
   "source": [
    "# read excle file data \n",
    "# using openpyxl\n",
    "from openpyxl import load_workbook\n",
    "\n",
    "wb = load_workbook(filename = 'data.xlsx')\n",
    "\n",
    "# select the first sheet\n",
    "sheet = wb[wb.sheetnames[0]]\n",
    "\n",
    "# read data from excel file\n",
    "\n",
    "for row in sheet.iter_rows(values_only=True):\n",
    "    print(row)"
   ]
  }
 ],
 "metadata": {
  "kernelspec": {
   "display_name": "Python 3",
   "language": "python",
   "name": "python3"
  },
  "language_info": {
   "codemirror_mode": {
    "name": "ipython",
    "version": 3
   },
   "file_extension": ".py",
   "mimetype": "text/x-python",
   "name": "python",
   "nbconvert_exporter": "python",
   "pygments_lexer": "ipython3",
   "version": "3.13.4"
  }
 },
 "nbformat": 4,
 "nbformat_minor": 5
}
