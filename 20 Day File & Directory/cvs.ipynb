{
 "cells": [
  {
   "cell_type": "code",
   "execution_count": 4,
   "id": "025b0249",
   "metadata": {},
   "outputs": [
    {
     "name": "stdout",
     "output_type": "stream",
     "text": [
      "      Name  Age Country\n",
      "0  Avaneet   28     USA\n",
      "1   Rugwed   35  Canada\n",
      "2   Pratik   22      UK\n"
     ]
    }
   ],
   "source": [
    "# reading csv files \n",
    "# use panda to read csv\n",
    "\n",
    "import pandas as pd\n",
    "\n",
    "df = pd.read_csv(\"data.csv\")\n",
    "\n",
    "# display the content\n",
    "print(df)"
   ]
  },
  {
   "cell_type": "code",
   "execution_count": 9,
   "id": "a090b244",
   "metadata": {},
   "outputs": [
    {
     "name": "stdout",
     "output_type": "stream",
     "text": [
      "[['Name', 'Age', 'Country'], ['Avaneet', '28', 'USA'], ['Rugwed', '35', 'Canada'], ['Pratik', '22', 'UK']]\n",
      "\n",
      "{'Name': ['Age', 'Country'], 'Avaneet': ['28', 'USA'], 'Rugwed': ['35', 'Canada'], 'Pratik': ['22', 'UK']}\n",
      "\n",
      "['Name', 'Age', 'Country']\n",
      "\n",
      "['Avaneet', '28', 'USA']\n",
      "\n",
      "['Rugwed', '35', 'Canada']\n",
      "\n",
      "['Pratik', '22', 'UK']\n",
      "\n"
     ]
    }
   ],
   "source": [
    "# using csv modules for read csv files\n",
    "\n",
    "import csv\n",
    "\n",
    "# open and read the file \n",
    "\n",
    "with open('data.csv', 'r') as file:\n",
    "    reader = csv.reader(file)\n",
    "    # show data into list format\n",
    "    data = list(reader)\n",
    "    print(data)\n",
    "    print()\n",
    "    # show data into dictionary format\n",
    "    data_dict = {row[0]: row[1:] for row in data}\n",
    "    print(data_dict)\n",
    "    print()\n",
    "    \n",
    "    for row in data:\n",
    "        print(row)\n",
    "        print()"
   ]
  }
 ],
 "metadata": {
  "kernelspec": {
   "display_name": "Python 3",
   "language": "python",
   "name": "python3"
  },
  "language_info": {
   "codemirror_mode": {
    "name": "ipython",
    "version": 3
   },
   "file_extension": ".py",
   "mimetype": "text/x-python",
   "name": "python",
   "nbconvert_exporter": "python",
   "pygments_lexer": "ipython3",
   "version": "3.13.4"
  }
 },
 "nbformat": 4,
 "nbformat_minor": 5
}
