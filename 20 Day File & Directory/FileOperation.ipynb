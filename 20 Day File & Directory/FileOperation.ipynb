{
 "cells": [
  {
   "cell_type": "code",
   "execution_count": 1,
   "id": "fe6043e8",
   "metadata": {},
   "outputs": [
    {
     "name": "stdout",
     "output_type": "stream",
     "text": [
      "Content has been written to the file.\n"
     ]
    }
   ],
   "source": [
    "# Writing to a File \n",
    "# Open the file in write mode\n",
    "with open(\"test.txt\",\"w\") as file:\n",
    "    # Write content to the file\n",
    "    file.write(\"lakshyajain1508\\n\")\n",
    "    file.write(\"learning python with lakshya\\n\")\n",
    "    file.write(\"Welcome to my page.\\n\")\n",
    "\n",
    "print(\"Content has been written to the file.\")"
   ]
  },
  {
   "cell_type": "code",
   "execution_count": 2,
   "id": "2a1d1e6d",
   "metadata": {},
   "outputs": [
    {
     "name": "stdout",
     "output_type": "stream",
     "text": [
      "lakshyajain1508\n",
      "learning python with lakshya\n",
      "Welcome to my page.\n",
      "\n"
     ]
    }
   ],
   "source": [
    "# File Operation\n",
    "# Read File From System\n",
    "# Open the file in read mode\n",
    "with open(\"test.txt\",\"r\") as file:\n",
    "    # Read the entire content of the file\n",
    "    content = file.read()\n",
    "# print the content of file \n",
    "print(content)"
   ]
  },
  {
   "cell_type": "code",
   "execution_count": 3,
   "id": "32e7622f",
   "metadata": {},
   "outputs": [
    {
     "name": "stdout",
     "output_type": "stream",
     "text": [
      "Content has been appended to the file.\n"
     ]
    }
   ],
   "source": [
    "# Appending to a File\n",
    "# Open the file in append mode\n",
    "with open(\"test.txt\",\"a\") as file:\n",
    "    # Append content to the file\n",
    "    file.write(\"python & R is best programming...\")\n",
    "print(\"Content has been appended to the file.\")    "
   ]
  },
  {
   "cell_type": "code",
   "execution_count": 4,
   "id": "187d5f31",
   "metadata": {},
   "outputs": [
    {
     "name": "stdout",
     "output_type": "stream",
     "text": [
      "Name: Avaneet, Age: 28, Country: USA\n",
      "Name: Rugwed, Age: 35, Country: Canada\n",
      "Name: Pratik, Age: 22, Country: UK\n"
     ]
    }
   ],
   "source": [
    "# Read csv file \n",
    "import csv\n",
    "# Open the CSV file for reading\n",
    "with open(\"data.csv\",\"r\") as file:\n",
    "    # create a csv reader \n",
    "    csv_reader = csv.reader(file)\n",
    "    # Skip the header row (if it exists)\n",
    "    next(csv_reader)\n",
    "    # Iterate over each row in the CSV file\n",
    "    for row in csv_reader:\n",
    "        name, age, country = row\n",
    "        print(f\"Name: {name}, Age: {age}, Country: {country}\")"
   ]
  },
  {
   "cell_type": "code",
   "execution_count": 19,
   "id": "a41cc8d4",
   "metadata": {},
   "outputs": [
    {
     "name": "stdout",
     "output_type": "stream",
     "text": [
      "('Name', 'Age', 'Country', 'Job ID')\n",
      "('Avaneet', 28, 'USA', 101)\n",
      "('Rugwed', 35, 'Canada', 102)\n",
      "('Pratik', 22, 'UK', 103)\n"
     ]
    }
   ],
   "source": [
    "# using openpyxl\n",
    "from openpyxl import load_workbook\n",
    "\n",
    "wb = load_workbook(filename = 'data.xlsx')\n",
    "\n",
    "# read data from excel file\n",
    "\n",
    "ws = wb.active\n",
    "for row in ws.iter_rows(values_only=True):\n",
    "    print(row)"
   ]
  },
  {
   "cell_type": "code",
   "execution_count": 5,
   "id": "4938217a",
   "metadata": {},
   "outputs": [
    {
     "name": "stdout",
     "output_type": "stream",
     "text": [
      "e:\\laksh\\Python\\20 Day File & Directory\n"
     ]
    }
   ],
   "source": [
    "import os\n",
    "current_directory = os.getcwd();\n",
    "print(current_directory)"
   ]
  },
  {
   "cell_type": "code",
   "execution_count": 15,
   "id": "e89f7dff",
   "metadata": {},
   "outputs": [
    {
     "name": "stdout",
     "output_type": "stream",
     "text": [
      ".git\n",
      "00 Intrduction\n",
      "01 Variable&DataTypes\n",
      "02 Data Type Conversion\n",
      "03 Operators\n",
      "04 If-Else\n",
      "05 Loop\n",
      "06 Functions\n",
      "07 List\n",
      "08 Tuple\n",
      "09 Set\n",
      "10 Dictionary\n",
      "11 Break&Continue\n",
      "12 String\n",
      "13 Class&Object\n",
      "14 Constructor\n",
      "15 Inheritance\n",
      "16 Abstract\n",
      "17 Encapsulation\n",
      "18 Polymorphism\n",
      "19 Exception Handling\n",
      "20 Day File & Directory\n",
      "Assignments\n",
      "Python ipynb File\n",
      "README.md\n"
     ]
    }
   ],
   "source": [
    "path = \"e:/laksh/Python/\"\n",
    "\n",
    "result = os.listdir(path)\n",
    "\n",
    "#print(result)\n",
    "for i in result:\n",
    "    print(i)"
   ]
  },
  {
   "cell_type": "code",
   "execution_count": 24,
   "id": "a7f206e3",
   "metadata": {},
   "outputs": [],
   "source": [
    "# Create a new directory\n",
    "os.mkdir('p4n')"
   ]
  },
  {
   "cell_type": "code",
   "execution_count": 26,
   "id": "15e72fb8",
   "metadata": {},
   "outputs": [],
   "source": [
    "# rename \n",
    "os.rename('p4n','cwp')"
   ]
  },
  {
   "cell_type": "code",
   "execution_count": 27,
   "id": "2de90d21",
   "metadata": {},
   "outputs": [],
   "source": [
    "# Remove a directory\n",
    "os.rmdir('cwp')"
   ]
  },
  {
   "cell_type": "code",
   "execution_count": 31,
   "id": "4635c17f",
   "metadata": {},
   "outputs": [
    {
     "name": "stdout",
     "output_type": "stream",
     "text": [
      "Don't Enter zero ...\n"
     ]
    }
   ],
   "source": [
    "# Python Exception\n",
    "try:\n",
    "    name = str(input('Enter your name'))\n",
    "    age = int(input('Enter your age'))\n",
    "    height = int(input('Enter your Height '))\n",
    "    bmi = age/height\n",
    "    print(f\"my name {name} and age {age}\")\n",
    "    print(f\"BMI = {bmi}\")\n",
    "except ValueError :\n",
    "    print(\"Plz Enter only number ... \")\n",
    "except ZeroDivisionError:\n",
    "    print(\"Don't Enter zero ...\")    "
   ]
  }
 ],
 "metadata": {
  "kernelspec": {
   "display_name": "Python 3",
   "language": "python",
   "name": "python3"
  },
  "language_info": {
   "codemirror_mode": {
    "name": "ipython",
    "version": 3
   },
   "file_extension": ".py",
   "mimetype": "text/x-python",
   "name": "python",
   "nbconvert_exporter": "python",
   "pygments_lexer": "ipython3",
   "version": "3.13.4"
  }
 },
 "nbformat": 4,
 "nbformat_minor": 5
}
