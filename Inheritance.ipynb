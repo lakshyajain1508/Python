{
  "nbformat": 4,
  "nbformat_minor": 0,
  "metadata": {
    "colab": {
      "provenance": []
    },
    "kernelspec": {
      "name": "python3",
      "display_name": "Python 3"
    },
    "language_info": {
      "name": "python"
    }
  },
  "cells": [
    {
      "cell_type": "code",
      "source": [
        "# Single Inheritance"
      ],
      "metadata": {
        "id": "ZhV4szz7rJoC"
      },
      "execution_count": 4,
      "outputs": []
    },
    {
      "cell_type": "code",
      "execution_count": 5,
      "metadata": {
        "id": "2__QFQk9qM-l"
      },
      "outputs": [],
      "source": [
        "class Name:\n",
        "  def name(name):\n",
        "    print(\"Name:\",name)"
      ]
    },
    {
      "cell_type": "code",
      "source": [
        "class Age(Name):\n",
        "  def age(age):\n",
        "    print(\"Age:\",age)"
      ],
      "metadata": {
        "id": "ILriUaIDqmLT"
      },
      "execution_count": 6,
      "outputs": []
    },
    {
      "cell_type": "code",
      "source": [
        "obj = Age\n",
        "obj.name(\"Lakshya\")\n",
        "obj.age(19)"
      ],
      "metadata": {
        "colab": {
          "base_uri": "https://localhost:8080/"
        },
        "id": "BBuTR1Rnq1sK",
        "outputId": "edffac46-2e2e-4052-9878-e3e00ce68d8b"
      },
      "execution_count": 7,
      "outputs": [
        {
          "output_type": "stream",
          "name": "stdout",
          "text": [
            "Name: Lakshya\n",
            "Age: 19\n"
          ]
        }
      ]
    },
    {
      "cell_type": "code",
      "source": [
        "# Multilevel Inheritance"
      ],
      "metadata": {
        "id": "SRZR2DWIsIJA"
      },
      "execution_count": 11,
      "outputs": []
    },
    {
      "cell_type": "code",
      "source": [
        "class Height(Age):\n",
        "  def height(height):\n",
        "    print(\"Height:\",height)"
      ],
      "metadata": {
        "id": "6JgGQYttr2ll"
      },
      "execution_count": 13,
      "outputs": []
    },
    {
      "cell_type": "code",
      "source": [
        "obj1 = Height\n",
        "obj1.name(\"Lakshya\")\n",
        "obj1.age(19)\n",
        "obj1.height(5.11)"
      ],
      "metadata": {
        "colab": {
          "base_uri": "https://localhost:8080/"
        },
        "id": "8icVncpEsN6n",
        "outputId": "cbe0eea7-5fac-4a0c-bdad-38921fedda29"
      },
      "execution_count": 14,
      "outputs": [
        {
          "output_type": "stream",
          "name": "stdout",
          "text": [
            "Name: Lakshya\n",
            "Age: 19\n",
            "Height: 5.11\n"
          ]
        }
      ]
    },
    {
      "cell_type": "code",
      "source": [
        "# Multiple Inheritance"
      ],
      "metadata": {
        "id": "kEwJB4FwtA13"
      },
      "execution_count": 15,
      "outputs": []
    },
    {
      "cell_type": "code",
      "source": [
        "class Lion:\n",
        "  def lion_sound():\n",
        "    print(\"Roar\")"
      ],
      "metadata": {
        "id": "k_7ktM8StIX2"
      },
      "execution_count": 16,
      "outputs": []
    },
    {
      "cell_type": "code",
      "source": [
        "class Elephent:\n",
        "  def elephent_sound():\n",
        "    print(\"Pawoo\")"
      ],
      "metadata": {
        "id": "EMaequrptzUu"
      },
      "execution_count": 17,
      "outputs": []
    },
    {
      "cell_type": "code",
      "source": [
        "class Animal(Lion,Elephent):\n",
        "  def animal_sound():\n",
        "    print(\"---Animal Sound---\")"
      ],
      "metadata": {
        "id": "W8Uv2IM0uNP1"
      },
      "execution_count": 20,
      "outputs": []
    },
    {
      "cell_type": "code",
      "source": [
        "obj2 = Animal\n",
        "obj2.animal_sound()\n",
        "obj2.lion_sound()\n",
        "obj2.elephent_sound()"
      ],
      "metadata": {
        "colab": {
          "base_uri": "https://localhost:8080/"
        },
        "id": "RGBX9HwNuhEl",
        "outputId": "a72ace57-9c62-4df8-c78c-5ac0d55b3f5b"
      },
      "execution_count": 21,
      "outputs": [
        {
          "output_type": "stream",
          "name": "stdout",
          "text": [
            "---Animal Sound---\n",
            "Roar\n",
            "Pawoo\n"
          ]
        }
      ]
    },
    {
      "cell_type": "code",
      "source": [
        "# Hierarchical Inheritance"
      ],
      "metadata": {
        "id": "sUChXVV9vHqE"
      },
      "execution_count": null,
      "outputs": []
    },
    {
      "cell_type": "code",
      "source": [
        "class Customer:\n",
        "  def customer_info(self,name):\n",
        "    print(\"Customer Name:\",name)"
      ],
      "metadata": {
        "id": "jEy7DpbVvNJb"
      },
      "execution_count": 50,
      "outputs": []
    },
    {
      "cell_type": "code",
      "source": [
        "class Account(Customer):\n",
        "  def acc_info(self,acc):\n",
        "    print(\"Account No.:\",acc)"
      ],
      "metadata": {
        "id": "SJIpbqP0vgIL"
      },
      "execution_count": 67,
      "outputs": []
    },
    {
      "cell_type": "code",
      "source": [
        "class Bank(Customer):\n",
        "  def bank_name(self):\n",
        "    print(\"---Yes Bank---\")"
      ],
      "metadata": {
        "id": "iG1Q8Ch4vwAC"
      },
      "execution_count": 52,
      "outputs": []
    },
    {
      "cell_type": "code",
      "source": [
        "class Amount(Bank):\n",
        "  def amount(self,amount):\n",
        "    self.amount = amount\n",
        "    print(\"Amount\")"
      ],
      "metadata": {
        "id": "3n-S0sc4v8NC"
      },
      "execution_count": 115,
      "outputs": []
    },
    {
      "cell_type": "code",
      "source": [
        "class Deposit(Amount):\n",
        "  def deposit(self,deposit_amount):\n",
        "    update_amount = self.amount + deposit_amount\n",
        "    print(\"Deposit :\",update_amount)\n",
        "    self.update_amount = update_amount"
      ],
      "metadata": {
        "id": "8s4cctVJwoI5"
      },
      "execution_count": 89,
      "outputs": []
    },
    {
      "cell_type": "code",
      "source": [
        "class Withdraw(Amount):\n",
        "  def withdraw(self,withdraw_amount):\n",
        "    update_amount = self.update_amount - withdraw_amount\n",
        "    print(\"Withdraw:\",update_amount)\n",
        "    self.update_amount = update_amount"
      ],
      "metadata": {
        "id": "4uiwV-8jxjYP"
      },
      "execution_count": 85,
      "outputs": []
    },
    {
      "cell_type": "code",
      "source": [
        "class Balance(Deposit,Withdraw):\n",
        "  def balance(self):\n",
        "    print(\"Balance:\",self.update_amount)"
      ],
      "metadata": {
        "id": "dfi-bFPix28P"
      },
      "execution_count": 56,
      "outputs": []
    },
    {
      "cell_type": "code",
      "source": [
        "class Address(Account,Balance):\n",
        "  def address(self):\n",
        "    print(\"Branch Borivali\")"
      ],
      "metadata": {
        "id": "fuTb087DyLKG"
      },
      "execution_count": 120,
      "outputs": []
    },
    {
      "cell_type": "code",
      "source": [
        "a = Address()\n",
        "a.bank_name()\n",
        "a.address()\n",
        "a.customer_info(\"Lakshya Jain\")\n",
        "a.acc_info(344201000003214)\n",
        "a.amount(500)\n",
        "a.deposit(2000)\n",
        "a.withdraw(1000)\n",
        "a.balance()"
      ],
      "metadata": {
        "colab": {
          "base_uri": "https://localhost:8080/"
        },
        "id": "yC3xP87dyr5m",
        "outputId": "0a37f1c4-ddfe-46a4-d2c9-b5997c85bef1"
      },
      "execution_count": 127,
      "outputs": [
        {
          "output_type": "stream",
          "name": "stdout",
          "text": [
            "---Yes Bank---\n",
            "Branch Borivali\n",
            "Customer Name: Lakshya Jain\n",
            "Account No.: 344201000003214\n",
            "Deposit: 2500\n",
            "Withdraw: 1500\n",
            "Balance: 2500\n"
          ]
        }
      ]
    }
  ]
}