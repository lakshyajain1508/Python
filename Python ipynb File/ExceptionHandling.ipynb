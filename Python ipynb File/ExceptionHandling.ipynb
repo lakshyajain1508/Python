{
  "nbformat": 4,
  "nbformat_minor": 0,
  "metadata": {
    "colab": {
      "provenance": []
    },
    "kernelspec": {
      "name": "python3",
      "display_name": "Python 3"
    },
    "language_info": {
      "name": "python"
    }
  },
  "cells": [
    {
      "cell_type": "code",
      "execution_count": null,
      "metadata": {
        "colab": {
          "base_uri": "https://localhost:8080/"
        },
        "id": "uwRCB6NR-Wd7",
        "outputId": "d5b87fc8-0be2-4e1d-f28d-3cd900547533"
      },
      "outputs": [
        {
          "output_type": "stream",
          "name": "stdout",
          "text": [
            "https://student.gtecjainerp.com/\n"
          ]
        }
      ],
      "source": [
        "# Exception Handling in python\n",
        "\n",
        "web = 'https://student.gtecjainerp.com/'\n",
        "print(web)"
      ]
    },
    {
      "cell_type": "code",
      "source": [
        "name = str(input('Enter your name : '))\n",
        "age = int(input('Enter your age : '))\n",
        "height = float(input('Enter your height'))\n",
        "\n",
        "print(f'My name is {name} age is {age} and height is {height}')"
      ],
      "metadata": {
        "colab": {
          "base_uri": "https://localhost:8080/"
        },
        "id": "AhZx2_s8FVUM",
        "outputId": "83fe6f69-14d0-40d0-e7c2-b51962034f24"
      },
      "execution_count": null,
      "outputs": [
        {
          "output_type": "stream",
          "name": "stdout",
          "text": [
            "Enter your name : Laksh\n",
            "Enter your age : 19\n",
            "Enter your height5.11\n",
            "My name is Laksh age is 19 and height is 5.11\n"
          ]
        }
      ]
    },
    {
      "cell_type": "code",
      "source": [
        "name = str(input('Enter your name : '))\n",
        "age = int(input('Enter your age : '))\n",
        "height = float(input('Enter your height'))\n",
        "\n",
        "print(f'My name is {name} age is {age} and height is {height}')"
      ],
      "metadata": {
        "colab": {
          "base_uri": "https://localhost:8080/",
          "height": 245
        },
        "id": "w5sJRgazGi1K",
        "outputId": "5e614e80-5311-4ff0-bfb6-0627eb1263af"
      },
      "execution_count": null,
      "outputs": [
        {
          "name": "stdout",
          "output_type": "stream",
          "text": [
            "Enter your name : Lakshya\n",
            "Enter your age : Laksh\n"
          ]
        },
        {
          "output_type": "error",
          "ename": "ValueError",
          "evalue": "invalid literal for int() with base 10: 'Laksh'",
          "traceback": [
            "\u001b[0;31m---------------------------------------------------------------------------\u001b[0m",
            "\u001b[0;31mValueError\u001b[0m                                Traceback (most recent call last)",
            "\u001b[0;32m<ipython-input-6-1dd7cf36420b>\u001b[0m in \u001b[0;36m<cell line: 0>\u001b[0;34m()\u001b[0m\n\u001b[1;32m      1\u001b[0m \u001b[0mname\u001b[0m \u001b[0;34m=\u001b[0m \u001b[0mstr\u001b[0m\u001b[0;34m(\u001b[0m\u001b[0minput\u001b[0m\u001b[0;34m(\u001b[0m\u001b[0;34m'Enter your name : '\u001b[0m\u001b[0;34m)\u001b[0m\u001b[0;34m)\u001b[0m\u001b[0;34m\u001b[0m\u001b[0;34m\u001b[0m\u001b[0m\n\u001b[0;32m----> 2\u001b[0;31m \u001b[0mage\u001b[0m \u001b[0;34m=\u001b[0m \u001b[0mint\u001b[0m\u001b[0;34m(\u001b[0m\u001b[0minput\u001b[0m\u001b[0;34m(\u001b[0m\u001b[0;34m'Enter your age : '\u001b[0m\u001b[0;34m)\u001b[0m\u001b[0;34m)\u001b[0m\u001b[0;34m\u001b[0m\u001b[0;34m\u001b[0m\u001b[0m\n\u001b[0m\u001b[1;32m      3\u001b[0m \u001b[0mheight\u001b[0m \u001b[0;34m=\u001b[0m \u001b[0mfloat\u001b[0m\u001b[0;34m(\u001b[0m\u001b[0minput\u001b[0m\u001b[0;34m(\u001b[0m\u001b[0;34m'Enter your height'\u001b[0m\u001b[0;34m)\u001b[0m\u001b[0;34m)\u001b[0m\u001b[0;34m\u001b[0m\u001b[0;34m\u001b[0m\u001b[0m\n\u001b[1;32m      4\u001b[0m \u001b[0;34m\u001b[0m\u001b[0m\n\u001b[1;32m      5\u001b[0m \u001b[0mprint\u001b[0m\u001b[0;34m(\u001b[0m\u001b[0;34mf'My name is {name} age is {age} and height is {height}'\u001b[0m\u001b[0;34m)\u001b[0m\u001b[0;34m\u001b[0m\u001b[0;34m\u001b[0m\u001b[0m\n",
            "\u001b[0;31mValueError\u001b[0m: invalid literal for int() with base 10: 'Laksh'"
          ]
        }
      ]
    },
    {
      "cell_type": "code",
      "source": [
        "try:\n",
        "  name = str(input('Enter your name : '))\n",
        "  age = int(input('Enter your age : '))\n",
        "  height = float(input('Enter your height'))\n",
        "\n",
        "  print(f'My name is {name} age is {age} and height is {height}')\n",
        "except ValueError:\n",
        "  print('Enter only number')\n",
        "except ValueError:\n",
        "  print('Enter only')\n"
      ],
      "metadata": {
        "colab": {
          "base_uri": "https://localhost:8080/"
        },
        "id": "oWD4PSZLGzVq",
        "outputId": "50a3c1b0-5320-471d-d96a-472ace740b73"
      },
      "execution_count": null,
      "outputs": [
        {
          "output_type": "stream",
          "name": "stdout",
          "text": [
            "Enter your name : Lakshya\n",
            "Enter your age : lakshya\n",
            "Enter only number\n"
          ]
        }
      ]
    },
    {
      "cell_type": "code",
      "source": [
        "try:\n",
        "    name = str(input('Enter your Name ... '))\n",
        "    age = int(input('Enter your age ...'))\n",
        "    height = int(input('enter your height ...'))\n",
        "\n",
        "    print(f'My name is {name} , age {age} and height {height}')\n",
        "    BMI = age/height\n",
        "    print(f'BMI is {BMI}')\n",
        "except ValueError:\n",
        "    print('Enter only Number ')\n",
        "except ZeroDivisionError:\n",
        "    print('Enter Number more then zero (don not enter zero)')"
      ],
      "metadata": {
        "id": "b-V3BQsgMwhg",
        "colab": {
          "base_uri": "https://localhost:8080/"
        },
        "outputId": "cd14ccec-2662-44d9-cce5-201e507497a6"
      },
      "execution_count": 1,
      "outputs": [
        {
          "output_type": "stream",
          "name": "stdout",
          "text": [
            "Enter your Name ... Lakshya\n",
            "Enter your age ...19\n",
            "enter your height ...0\n",
            "My name is Lakshya , age 19 and height 0\n",
            "Enter Number more then zero (don not enter zero)\n"
          ]
        }
      ]
    },
    {
      "cell_type": "code",
      "source": [
        "try:\n",
        "    name = str(input('Enter your Name ... '))\n",
        "    age = int(input('Enter your age ...'))\n",
        "    height = int(input('enter your height ...'))\n",
        "\n",
        "    print(f'My name is {name} , age {age} and height {height}')\n",
        "    BMI = age/height\n",
        "    print(f'BMI is {BMI}')\n",
        "except Exception:\n",
        "    print('this is err.. ')\n",
        ""
      ],
      "metadata": {
        "colab": {
          "base_uri": "https://localhost:8080/"
        },
        "id": "ZO5SVmENQAsJ",
        "outputId": "1832a20f-7d10-4aa0-f6bc-bf10b999cc02"
      },
      "execution_count": 5,
      "outputs": [
        {
          "output_type": "stream",
          "name": "stdout",
          "text": [
            "Enter your Name ... Lakshya\n",
            "Enter your age ...19\n",
            "enter your height ...4.5\n",
            "this is err.. \n"
          ]
        }
      ]
    }
  ]
}