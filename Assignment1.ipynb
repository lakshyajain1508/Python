{
 "cells": [
  {
   "cell_type": "code",
   "execution_count": null,
   "id": "bd3cee41",
   "metadata": {},
   "outputs": [
    {
     "name": "stdout",
     "output_type": "stream",
     "text": [
      "30\n",
      "10\n",
      "200\n",
      "2.0\n",
      "0\n"
     ]
    }
   ],
   "source": [
    "# Write a Python script that declares two variables, num1 and num2, assigns them with integer values, and then performs basic arithmetic operations such as addition, subtraction, multiplication, and division using these variables.\n",
    "\n",
    "num1 = 20\n",
    "num2 = 10\n",
    "add = num1 + num2\n",
    "sub = num1 - num2\n",
    "mul = num1 * num2\n",
    "div = num1 / num2\n",
    "mod = num1 % num2\n",
    "print(add)\n",
    "print(sub)\n",
    "print(mul)\n",
    "print(div)\n",
    "print(mod)\n"
   ]
  },
  {
   "cell_type": "code",
   "execution_count": 10,
   "id": "f6c72dc1",
   "metadata": {},
   "outputs": [
    {
     "name": "stdout",
     "output_type": "stream",
     "text": [
      "Celsius = 32\n",
      "Fahrenheit = 89.6\n"
     ]
    }
   ],
   "source": [
    "# Create a Python program that prompts the user to enter a temperature in Celsius, stores it in a variable, and then converts it to Fahrenheit using the formula (Celsius * 9/5) + 32. Display the result.\n",
    "\n",
    "temp = input(\"Enter the temperature in celsius : \")\n",
    "print(\"Celsius = \" + temp)\n",
    "fah = (float(temp) * 9/5) + 32\n",
    "print(\"Fahrenheit = \" + str(fah))\n",
    "\n",
    "\n"
   ]
  },
  {
   "cell_type": "code",
   "execution_count": 15,
   "id": "008e024a",
   "metadata": {},
   "outputs": [
    {
     "name": "stdout",
     "output_type": "stream",
     "text": [
      "Enter the first name -> Lakshya\n",
      "Enter the last name -> Jain\n",
      "Full Name -> Lakshya Jain\n"
     ]
    }
   ],
   "source": [
    "# Write a Python script that declares two string variables and concatenates them together. Prompt the user to enter their first name and last name separately, then concatenate them and print out the full name.\n",
    "\n",
    "name_first = input()\n",
    "print(\"Enter the first name -> \"+name_first)\n",
    "name_last = input()\n",
    "print(\"Enter the last name -> \"+name_last)\n",
    "\n",
    "full_name = name_first +\" \"+ name_last\n",
    "print(\"Full Name -> \"+full_name)\n"
   ]
  },
  {
   "cell_type": "code",
   "execution_count": 18,
   "id": "250b7d04",
   "metadata": {},
   "outputs": [
    {
     "name": "stdout",
     "output_type": "stream",
     "text": [
      "Enter the Weight -> 50\n",
      "Enter the Weight -> 5.2\n",
      "BMI -> 1.8491124260355027\n"
     ]
    }
   ],
   "source": [
    "# Develop a Python program that calculates Body Mass Index (BMI). Prompt the user to enter their weight in kilograms and height in meters. Calculate BMI using the formula BMI = weight / (height * height). Print out the BMI.\n",
    "\n",
    "Weight = input()\n",
    "print(\"Enter the Weight -> \"+Weight)\n",
    "Height = input()\n",
    "print(\"Enter the Weight -> \"+Height)\n",
    "BMI = float(Weight) / (float(Height) * float(Height))\n",
    "print(\"BMI -> \"+str(BMI))\n"
   ]
  },
  {
   "cell_type": "code",
   "execution_count": 19,
   "id": "0f20d3d2",
   "metadata": {},
   "outputs": [
    {
     "name": "stdout",
     "output_type": "stream",
     "text": [
      "Base -> 20\n",
      "Height -> 30\n",
      "Area Of Triangle -> 300.0\n"
     ]
    }
   ],
   "source": [
    "# Write a Python program that calculates the area of a triangle. Prompt the user to enter the base and height of the triangle. Use the formula Area = (base * height) / 2 and display the result.\n",
    "\n",
    "base = input()\n",
    "print(\"Base -> \"+base)\n",
    "height = input()\n",
    "print(\"Height -> \"+height)\n",
    "Area = (float(base) * float(height)) / 2\n",
    "print(\"Area Of Triangle -> \"+str(Area))"
   ]
  },
  {
   "cell_type": "code",
   "execution_count": 21,
   "id": "6cfe566a",
   "metadata": {},
   "outputs": [
    {
     "name": "stdout",
     "output_type": "stream",
     "text": [
      "2006\n",
      "2025\n",
      "19\n"
     ]
    }
   ],
   "source": [
    "# Create a Python script that prompts the user to enter their birth year and stores it in a variable. Calculate the user's age based on the current year and print out the result.\n",
    "\n",
    "B_Year = input()\n",
    "Birth_Year = int(B_Year)\n",
    "print(Birth_Year)\n",
    "\n",
    "C_Year = input()\n",
    "Current_Year = int(C_Year)\n",
    "print(Current_Year)\n",
    "\n",
    "Result = Current_Year - Birth_Year\n",
    "print(Result)\n",
    "\n"
   ]
  },
  {
   "cell_type": "code",
   "execution_count": 8,
   "id": "cea07636",
   "metadata": {},
   "outputs": [
    {
     "name": "stdout",
     "output_type": "stream",
     "text": [
      "Number -> 31\n",
      "31 is odd.\n"
     ]
    }
   ],
   "source": [
    "# Write a Python program that prompts the user to enter an integer and checks whether it's even or odd. Print out the result.\n",
    "\n",
    "num = input()\n",
    "print(\"Number -> \"+ str(num))\n",
    "if(int(num) % 2 == 0):\n",
    "    print(str(num) +\" is even.\")\n",
    "else:\n",
    "    print(str(num) + \" is odd.\")"
   ]
  },
  {
   "cell_type": "code",
   "execution_count": 6,
   "id": "3b516ce2",
   "metadata": {},
   "outputs": [
    {
     "name": "stdout",
     "output_type": "stream",
     "text": [
      "Enter the score of test 1 -> 60\n",
      "Enter the score of test 2 -> 20\n",
      "Enter the score of test 3 -> 50\n",
      "Average Score -> 43.333333333333336\n",
      "Grade F\n"
     ]
    }
   ],
   "source": [
    "# Develop a Python script that takes in the scores of three tests (out of 100) and stores them in variables. Calculate the average score and print it out. Then, based on the average score, assign a letter grade (A, B, C, D, or F) and print it out.\n",
    "\n",
    "test1 = input()\n",
    "print(\"Enter the score of test 1 -> \" + test1)\n",
    "test2 = input()\n",
    "print(\"Enter the score of test 2 -> \" + test2)\n",
    "test3 = input()\n",
    "print(\"Enter the score of test 3 -> \" + test3)\n",
    "average = (float(test1) + float(test2) + float(test3)) / 3\n",
    "print(\"Average Score -> \" + str(average))\n",
    "if average >= 90:\n",
    "    print(\"Grade A\")\n",
    "elif average >= 80:\n",
    "    print(\"Grade B\")\n",
    "elif average >= 70:\n",
    "    print(\"Grade C\")\n",
    "elif average >= 60:\n",
    "    print(\"Grade D\")\n",
    "else:\n",
    "    print(\"Grade F\")\n"
   ]
  },
  {
   "cell_type": "code",
   "execution_count": 5,
   "id": "6545947e",
   "metadata": {},
   "outputs": [
    {
     "name": "stdout",
     "output_type": "stream",
     "text": [
      "Principal Amount -> 50000\n",
      "Rate of Interest -> 2\n",
      "Time (in years) -> 2\n",
      "Simple Interest -> 2000.0\n",
      "Amount -> 52000.0\n"
     ]
    }
   ],
   "source": [
    "# Create a Python program that calculates simple interest. Prompt the user to enter principal amount, rate of interest, and time (in years). Calculate simple interest using the formula Simple Interest = (principal * rate * time) / 100 and display the result.\n",
    "\n",
    "princ = input()\n",
    "rate = input()\n",
    "time = input()\n",
    "print(\"Principal Amount -> \" + princ)\n",
    "print(\"Rate of Interest -> \" + rate)\n",
    "print(\"Time (in years) -> \" + time)\n",
    "\n",
    "intrest = (float(princ) * float(rate) * float(time)) / 100\n",
    "print(\"Simple Interest -> \" + str(intrest))\n",
    "\n",
    "amount = float(princ) + float(intrest)\n",
    "print(\"Amount -> \" + str(amount))\n"
   ]
  },
  {
   "cell_type": "code",
   "execution_count": 16,
   "id": "50f5ef55",
   "metadata": {},
   "outputs": [
    {
     "name": "stdout",
     "output_type": "stream",
     "text": [
      "The solutions are ((-1+0j), (-1+0j))\n"
     ]
    }
   ],
   "source": [
    "# Write a Python script that solves a quadratic equation. Prompt the user to enter the coefficients a, b, and c of the quadratic equation ax^2 + bx + c = 0. Calculate the roots of the equation using the quadratic formula and print out the results. Make sure to handle cases where the discriminant is negative.\n",
    "\n",
    "import cmath\n",
    "\n",
    "a = float(input(\"Enter coefficient a: \"))\n",
    "b = float(input(\"Enter coefficient b: \"))\n",
    "c = float(input(\"Enter coefficient c: \"))\n",
    "\n",
    "# Calculate discriminant\n",
    "d = (b ** 2) - (4 * a * c)\n",
    "\n",
    "# Find two solutions\n",
    "sol1 = (-b - cmath.sqrt(d)) / (2 * a)\n",
    "sol2 = (-b + cmath.sqrt(d)) / (2 * a)\n",
    "\n",
    "print(\"The solutions are \" + f'{sol1, sol2}')"
   ]
  }
 ],
 "metadata": {
  "kernelspec": {
   "display_name": "Python 3",
   "language": "python",
   "name": "python3"
  },
  "language_info": {
   "codemirror_mode": {
    "name": "ipython",
    "version": 3
   },
   "file_extension": ".py",
   "mimetype": "text/x-python",
   "name": "python",
   "nbconvert_exporter": "python",
   "pygments_lexer": "ipython3",
   "version": "3.12.1"
  }
 },
 "nbformat": 4,
 "nbformat_minor": 5
}
