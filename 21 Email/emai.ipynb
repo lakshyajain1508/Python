{
 "cells": [
  {
   "cell_type": "code",
   "execution_count": 1,
   "id": "0043ee92",
   "metadata": {},
   "outputs": [
    {
     "name": "stdout",
     "output_type": "stream",
     "text": [
      "✅ Email sent successfully!\n"
     ]
    }
   ],
   "source": [
    "import smtplib\n",
    "\n",
    "sender = \"lakshyajain1508@gmail.com\"\n",
    "recipient = \"lakshyajain1508@gmail.com\"\n",
    "password = \"ttlyisbhcjvwsogw\"\n",
    "\n",
    "message = \"\"\"\n",
    "Subject: Test Email from Python\n",
    "Hello Lakshya,\n",
    "This is a test email sent from a Python script using the smtplib library.\n",
    "\"\"\"\n",
    "\n",
    "server = smtplib.SMTP(\"smtp.gmail.com\", 587)\n",
    "server.starttls()\n",
    "server.login(sender, password)\n",
    "server.sendmail(sender, recipient, message)\n",
    "server.quit()\n",
    "\n",
    "print(\"✅ Email sent successfully!\")"
   ]
  }
 ],
 "metadata": {
  "kernelspec": {
   "display_name": "Python 3",
   "language": "python",
   "name": "python3"
  },
  "language_info": {
   "codemirror_mode": {
    "name": "ipython",
    "version": 3
   },
   "file_extension": ".py",
   "mimetype": "text/x-python",
   "name": "python",
   "nbconvert_exporter": "python",
   "pygments_lexer": "ipython3",
   "version": "3.13.4"
  }
 },
 "nbformat": 4,
 "nbformat_minor": 5
}
